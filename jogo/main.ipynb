{
 "cells": [
  {
   "cell_type": "code",
   "execution_count": 1,
   "metadata": {},
   "outputs": [],
   "source": [
    "from tabuleiro import tabuleiro\n",
    "from state import state\n",
    "from numpy import Infinity\n",
    "import re\n",
    "from IPython.display import clear_output\n",
    "import time\n",
    "import copy"
   ]
  },
  {
   "cell_type": "code",
   "execution_count": 2,
   "metadata": {},
   "outputs": [],
   "source": [
    "gameTabuleiro = tabuleiro()"
   ]
  },
  {
   "cell_type": "code",
   "execution_count": 3,
   "metadata": {},
   "outputs": [],
   "source": [
    "pacman_inicial = [1,1,0]"
   ]
  },
  {
   "cell_type": "code",
   "execution_count": 4,
   "metadata": {},
   "outputs": [],
   "source": [
    "fantasma_inicial = [9,9,0]"
   ]
  },
  {
   "cell_type": "code",
   "execution_count": 5,
   "metadata": {},
   "outputs": [],
   "source": [
    "turno_inicial = True #Jogador"
   ]
  },
  {
   "cell_type": "code",
   "execution_count": 6,
   "metadata": {},
   "outputs": [],
   "source": [
    "gamestate = state(tabuleiro(), pacman_inicial, fantasma_inicial, turno_inicial, 10)"
   ]
  },
  {
   "cell_type": "code",
   "execution_count": 7,
   "metadata": {},
   "outputs": [],
   "source": [
    "def MinMax(state, moves, depth, turno):\n",
    "    if turno:  # Se for turno do Max (Jogador Humano)\n",
    "        best_score = float('-inf')\n",
    "        best_move = None\n",
    "    else:  # Se for turno do Min (Fantasma)\n",
    "        best_score = float('inf')\n",
    "        best_move = None\n",
    "    if depth == 0 or state.isTerminal():\n",
    "        score = state.get_score()\n",
    "        return [None, score]\n",
    "    # Itera pelos movimentos possíveis\n",
    "    for move in moves:\n",
    "        next_state = state.update(move)\n",
    "        _, current_score = MinMax(next_state, next_state.movimentos_validos(), depth - 1, not turno)\n",
    "        if turno:  # Maximiza para o Jogador Humano\n",
    "            if current_score > best_score:\n",
    "                best_score = current_score\n",
    "                best_move = move\n",
    "        else:  # Minimiza para o Fantasma\n",
    "            if current_score < best_score:\n",
    "                best_score = current_score\n",
    "                best_move = move\n",
    "    return [best_move, best_score]\n"
   ]
  },
  {
   "cell_type": "code",
   "execution_count": 8,
   "metadata": {},
   "outputs": [],
   "source": [
    "def HillClimb(gamestate: state, depth, moves = []):\n",
    "    if depth == 0:\n",
    "        return [None, gamestate.get_distance()]\n",
    "    moves = gamestate.movimentos_validos()\n",
    "    melhor_distancia = gamestate.get_distance()\n",
    "    melhorou = True\n",
    "    melhor_movimento = moves[0]\n",
    "\n",
    "         \n",
    "    for move in moves:\n",
    "        next_state = state.update(gamestate, move)\n",
    "        \n",
    "        _, distancia_nova = HillClimb(next_state, depth - 1)\n",
    "\n",
    "        if distancia_nova < melhor_distancia:\n",
    "            melhor_distancia = distancia_nova\n",
    "            melhor_movimento = move\n",
    "            \n",
    "\n",
    "        \n",
    "\n",
    "\n",
    "    return melhor_movimento, melhor_distancia"
   ]
  },
  {
   "cell_type": "code",
   "execution_count": 9,
   "metadata": {},
   "outputs": [],
   "source": [
    "def obter_direcao():\n",
    "    # Solicita a entrada do usuário\n",
    "    escolha = input(\"Escolha uma direção (W = Norte, S = Sul, D = Leste (direita), A = Oeste, up = Subir de nível, down = Descer de nível) ou um andar para visualizar: \").strip().lower()\n",
    "\n",
    "    # Expressões regulares para capturar as direções\n",
    "    direcoes = {\n",
    "        r'^(n|norte|north|w)$': 'Norte',\n",
    "        r'^(s|sul|south)$': 'Sul',\n",
    "        r'^(l|leste|east|direita|right|d)$': 'Leste',\n",
    "        r'^(o|oeste|west|esquerda|left|a)$': 'Oeste',\n",
    "        r'^(up|subir|subir de nivel|subir de nível|ascender)$': 'Subir de nível',\n",
    "        r'^(down|descer|descer de nivel|descer de nível|descender)$': 'Descer de nível',\n",
    "        r'^(1|andar 1| andar1)$': \"Andar 1\",\n",
    "        r'^(2|andar 2| andar2)$': \"Andar 2\",\n",
    "        r'^(3|andar 3| andar3)$': \"Andar 3\",\n",
    "    }\n",
    "\n",
    "    # Verifica se a escolha do usuário corresponde a alguma das expressões regulares\n",
    "    for padrao, direcao in direcoes.items():\n",
    "        if re.match(padrao, escolha):\n",
    "            return direcao\n",
    "    \n",
    "    return\n",
    "        "
   ]
  },
  {
   "cell_type": "code",
   "execution_count": 10,
   "metadata": {},
   "outputs": [],
   "source": [
    "def jogador(state:state, direcao):\n",
    "    while True:\n",
    "        x, y, z = state.pacman\n",
    "        # Ajusta a posição com base na direção\n",
    "        if direcao == 'Norte':\n",
    "            x -= 1  # Move para cima no plano 2D\n",
    "        elif direcao == 'Sul':\n",
    "            x += 1  # Move para baixo no plano 2D\n",
    "        elif direcao == 'Leste':\n",
    "            y += 1  # Move para a direita\n",
    "        elif direcao == 'Oeste':\n",
    "            y -= 1  # Move para a esquerda\n",
    "        elif direcao == 'Subir de nível':\n",
    "            z += 1  # Sobe de nível\n",
    "        elif direcao == 'Descer de nível':\n",
    "            z -= 1  # Desce de nível\n",
    "        if [x,y,z] in state.movimentos_validos():\n",
    "            return [x, y, z]\n",
    "        elif direcao == \"Andar 1\":\n",
    "            clear_output()\n",
    "            state.tabuleiro.imprimir_tabuleiro(0)\n",
    "            direcao = obter_direcao()\n",
    "        elif direcao == \"Andar 2\":\n",
    "            clear_output()\n",
    "            state.tabuleiro.imprimir_tabuleiro(1)\n",
    "            direcao = obter_direcao()\n",
    "        elif direcao == \"Andar 3\":\n",
    "            clear_output()\n",
    "            state.tabuleiro.imprimir_tabuleiro(2)\n",
    "            direcao = obter_direcao()\n",
    "        else:\n",
    "            print(\"Movimento inválido ou fora dos limites da matriz!\")\n",
    "            direcao = obter_direcao()\n",
    "    "
   ]
  },
  {
   "cell_type": "code",
   "execution_count": 11,
   "metadata": {},
   "outputs": [],
   "source": [
    "def rodar_jogo_hill_climb():\n",
    "    gamestate.tabuleiro.imprimir_tabuleiro(0)\n",
    "    while not gamestate.isTerminal():\n",
    "        if gamestate.turno:\n",
    "            movimento = jogador(gamestate, obter_direcao())\n",
    "            time.sleep(1)\n",
    "            clear_output()\n",
    "            gamestate.update(movimento)\n",
    "            gamestate.tabuleiro.imprimir_tabuleiro(movimento[2])\n",
    "        else:\n",
    "            copia = copy.deepcopy(gamestate)\n",
    "            movimento = HillClimb(copia, 3, gamestate.movimentos_validos())\n",
    "            gamestate.update(movimento[0])\n",
    "            clear_output()\n",
    "            print(movimento)\n",
    "            \n",
    "            gamestate.tabuleiro.imprimir_tabuleiro(movimento[0][2])\n",
    "\n",
    "        gamestate.turno = not gamestate.turno"
   ]
  },
  {
   "cell_type": "code",
   "execution_count": 12,
   "metadata": {},
   "outputs": [],
   "source": [
    "def rodar_jogo_min_max():\n",
    "    gamestate.tabuleiro.imprimir_tabuleiro(0)\n",
    "    while not gamestate.isTerminal():\n",
    "        if gamestate.turno:\n",
    "            movimento = jogador(gamestate, obter_direcao())\n",
    "            time.sleep(1)\n",
    "            clear_output()\n",
    "            gamestate.update(movimento)\n",
    "            gamestate.tabuleiro.imprimir_tabuleiro(movimento[2])\n",
    "            \n",
    "        else:\n",
    "            copia = copy.deepcopy(gamestate)\n",
    "            movimento = MinMax(copia, gamestate.movimentos_validos(), gamestate.Maxdepth, gamestate.turno)\n",
    "            gamestate.update(movimento[0])\n",
    "            clear_output()\n",
    "            #print(movimento)\n",
    "            \n",
    "            \n",
    "            gamestate.tabuleiro.imprimir_tabuleiro(movimento[0][2])\n",
    "        gamestate.turno = not gamestate.turno"
   ]
  },
  {
   "cell_type": "code",
   "execution_count": 13,
   "metadata": {},
   "outputs": [],
   "source": [
    "#rodar_jogo_min_max()"
   ]
  },
  {
   "cell_type": "code",
   "execution_count": null,
   "metadata": {},
   "outputs": [
    {
     "name": "stdout",
     "output_type": "stream",
     "text": [
      "([1, 4, 0], 0)\n",
      "■ ■ ■ ■ ■ ■ ■ ■ ■ ■ ■\n",
      "■ 0 0 0 F 0 0 0 0 1 ■\n",
      "■ ■ 1 ■ 0 ■ ■ ■ 0 ■ ■\n",
      "■ 1 1 ■ P 1 1 1 1 1 ■\n",
      "■ 1 ■ ■ 1 ■ 1 ■ ■ 1 ■\n",
      "■ 1 1 1 1 ■ 1 ■ 1 1 ■\n",
      "■ 1 1 1 ■ ■ 1 ■ 1 ■ ■\n",
      "■ 1 1 1 1 1 1 ■ 1 1 ■\n",
      "■ 1 ■ ■ 1 ■ ■ ■ 1 ■ ■\n",
      "■ 1 1 1 1 1 1 1 1 1 ■\n",
      "■ ■ ■ ■ ■ ■ ■ ■ ■ ■ ■\n",
      "Movimento inválido ou fora dos limites da matriz!\n",
      "Movimento inválido ou fora dos limites da matriz!\n",
      "Movimento inválido ou fora dos limites da matriz!\n",
      "Movimento inválido ou fora dos limites da matriz!\n"
     ]
    }
   ],
   "source": [
    "rodar_jogo_hill_climb()"
   ]
  }
 ],
 "metadata": {
  "kernelspec": {
   "display_name": "Python 3",
   "language": "python",
   "name": "python3"
  },
  "language_info": {
   "codemirror_mode": {
    "name": "ipython",
    "version": 3
   },
   "file_extension": ".py",
   "mimetype": "text/x-python",
   "name": "python",
   "nbconvert_exporter": "python",
   "pygments_lexer": "ipython3",
   "version": "3.12.3"
  }
 },
 "nbformat": 4,
 "nbformat_minor": 2
}
