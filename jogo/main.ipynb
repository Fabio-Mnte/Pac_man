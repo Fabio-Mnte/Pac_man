{
 "cells": [
  {
   "cell_type": "code",
   "execution_count": 26,
   "metadata": {},
   "outputs": [],
   "source": [
    "from tabuleiro import tabuleiro\n",
    "from state import state\n",
    "from numpy import Infinity\n",
    "import re\n",
    "from IPython.display import clear_output\n",
    "import time\n",
    "import copy"
   ]
  },
  {
   "cell_type": "code",
   "execution_count": 27,
   "metadata": {},
   "outputs": [],
   "source": [
    "gameTabuleiro = tabuleiro()"
   ]
  },
  {
   "cell_type": "code",
   "execution_count": 28,
   "metadata": {},
   "outputs": [],
   "source": [
    "pacman_inicial = [1,1,0]"
   ]
  },
  {
   "cell_type": "code",
   "execution_count": 29,
   "metadata": {},
   "outputs": [],
   "source": [
    "fantasma_inicial = [9,9,0]"
   ]
  },
  {
   "cell_type": "code",
   "execution_count": 30,
   "metadata": {},
   "outputs": [],
   "source": [
    "turno_inicial = True #Jogador"
   ]
  },
  {
   "cell_type": "code",
   "execution_count": 31,
   "metadata": {},
   "outputs": [],
   "source": [
    "gamestate = state(tabuleiro(), pacman_inicial, fantasma_inicial, turno_inicial, 10)"
   ]
  },
  {
   "cell_type": "code",
   "execution_count": 32,
   "metadata": {},
   "outputs": [],
   "source": [
    "def MinMax(state, moves, depth, turno):\n",
    "    # Inicializa o melhor valor para maximização e minimização\n",
    "    if turno:  # Se for turno do Max (Jogador Humano)\n",
    "        best_score = float('-inf')\n",
    "        best_move = None\n",
    "    else:  # Se for turno do Min (Fantasma)\n",
    "        best_score = float('inf')\n",
    "        best_move = None\n",
    "\n",
    "    # Verifica se atingiu a profundidade máxima ou um estado terminal\n",
    "    if depth == 0 or state.isTerminal():\n",
    "        score = state.get_score()\n",
    "        return [None, score]\n",
    "\n",
    "    # Itera pelos movimentos possíveis\n",
    "    for move in moves:\n",
    "        # Gera um novo estado aplicando o movimento atual\n",
    "        next_state = state.update(move)\n",
    "        \n",
    "        \n",
    "        # Calcula o score do novo estado chamandOo recursivamente o MinMax\n",
    "        \n",
    "        _, current_score = MinMax(next_state, next_state.movimentos_validos(), depth - 1, not turno)\n",
    "\n",
    "        # Atualiza o melhor score e o melhor movimento com base no turno\n",
    "        if turno:  # Maximiza para o Jogador Humano\n",
    "            if current_score > best_score:\n",
    "                best_score = current_score\n",
    "                best_move = move\n",
    "        else:  # Minimiza para o Fantasma\n",
    "            if current_score < best_score:\n",
    "                best_score = current_score\n",
    "                best_move = move\n",
    "    \n",
    "    #print(f\"best move: {best_move}, best score: {best_score}\")\n",
    "\n",
    "    return [best_move, best_score]\n"
   ]
  },
  {
   "cell_type": "code",
   "execution_count": 33,
   "metadata": {},
   "outputs": [],
   "source": [
    "def obter_direcao():\n",
    "    # Solicita a entrada do usuário\n",
    "    escolha = input(\"Escolha uma direção (W = Norte, S = Sul, D = Leste (direita), A = Oeste, up = Subir de nível, down = Descer de nível) ou um andar para visualizar: \").strip().lower()\n",
    "\n",
    "    # Expressões regulares para capturar as direções\n",
    "    direcoes = {\n",
    "        r'^(n|norte|north|w)$': 'Norte',\n",
    "        r'^(s|sul|south)$': 'Sul',\n",
    "        r'^(l|leste|east|direita|right|d)$': 'Leste',\n",
    "        r'^(o|oeste|west|esquerda|left|a)$': 'Oeste',\n",
    "        r'^(up|subir|subir de nivel|subir de nível|ascender)$': 'Subir de nível',\n",
    "        r'^(down|descer|descer de nivel|descer de nível|descender)$': 'Descer de nível',\n",
    "        r'^(1|andar 1| andar1)$': \"Andar 1\",\n",
    "        r'^(2|andar 2| andar2)$': \"Andar 2\",\n",
    "        r'^(3|andar 3| andar3)$': \"Andar 3\",\n",
    "    }\n",
    "\n",
    "    # Verifica se a escolha do usuário corresponde a alguma das expressões regulares\n",
    "    for padrao, direcao in direcoes.items():\n",
    "        if re.match(padrao, escolha):\n",
    "            return direcao\n",
    "    \n",
    "    return\n",
    "        "
   ]
  },
  {
   "cell_type": "code",
   "execution_count": 34,
   "metadata": {},
   "outputs": [],
   "source": [
    "def jogador(state:state, direcao):\n",
    "    while True:\n",
    "        x, y, z = state.pacman\n",
    "        # Ajusta a posição com base na direção\n",
    "        if direcao == 'Norte':\n",
    "            x -= 1  # Move para cima no plano 2D\n",
    "        elif direcao == 'Sul':\n",
    "            x += 1  # Move para baixo no plano 2D\n",
    "        elif direcao == 'Leste':\n",
    "            y += 1  # Move para a direita\n",
    "        elif direcao == 'Oeste':\n",
    "            y -= 1  # Move para a esquerda\n",
    "        elif direcao == 'Subir de nível':\n",
    "            z += 1  # Sobe de nível\n",
    "        elif direcao == 'Descer de nível':\n",
    "            z -= 1  # Desce de nível\n",
    "        if [x,y,z] in state.movimentos_validos():\n",
    "            return [x, y, z]\n",
    "        elif direcao == \"Andar 1\":\n",
    "            clear_output()\n",
    "            state.tabuleiro.imprimir_tabuleiro(0)\n",
    "            direcao = obter_direcao()\n",
    "        elif direcao == \"Andar 2\":\n",
    "            clear_output()\n",
    "            state.tabuleiro.imprimir_tabuleiro(1)\n",
    "            direcao = obter_direcao()\n",
    "        elif direcao == \"Andar 3\":\n",
    "            clear_output()\n",
    "            state.tabuleiro.imprimir_tabuleiro(2)\n",
    "            direcao = obter_direcao()\n",
    "        else:\n",
    "            print(\"Movimento inválido ou fora dos limites da matriz!\")\n",
    "            direcao = obter_direcao()\n",
    "    "
   ]
  },
  {
   "cell_type": "code",
   "execution_count": 35,
   "metadata": {},
   "outputs": [],
   "source": [
    "def rodar_jogo():\n",
    "    gamestate.tabuleiro.imprimir_tabuleiro(0)\n",
    "    while not gamestate.isTerminal():\n",
    "        if gamestate.turno:\n",
    "            movimento = jogador(gamestate, obter_direcao())\n",
    "            time.sleep(1)\n",
    "            clear_output()\n",
    "            gamestate.update(movimento)\n",
    "            gamestate.tabuleiro.imprimir_tabuleiro(movimento[2])\n",
    "            \n",
    "        else:\n",
    "            copia = copy.deepcopy(gamestate)\n",
    "            movimento = MinMax(copia, gamestate.movimentos_validos(), gamestate.Maxdepth, gamestate.turno)\n",
    "            gamestate.update(movimento[0])\n",
    "            clear_output()\n",
    "            #print(movimento)\n",
    "            \n",
    "            \n",
    "            gamestate.tabuleiro.imprimir_tabuleiro(movimento[0][2])\n",
    "        gamestate.turno = not gamestate.turno"
   ]
  },
  {
   "cell_type": "code",
   "execution_count": 36,
   "metadata": {},
   "outputs": [
    {
     "name": "stdout",
     "output_type": "stream",
     "text": [
      "162\n",
      "■ ■ ■ ■ ■ ■ ■ ■ ■ ■ ■\n",
      "■ 0 1 1 1 1 1 1 1 1 ■\n",
      "■ ■ 1 ■ 1 ■ ■ ■ 1 ■ ■\n",
      "■ 1 1 ■ 1 1 1 1 1 1 ■\n",
      "■ 1 ■ ■ 1 ■ 1 ■ ■ 1 ■\n",
      "■ 1 1 1 1 ■ 1 ■ 1 1 ■\n",
      "■ 1 1 1 ■ ■ 1 ■ F ■ ■\n",
      "■ 1 1 1 1 1 1 ■ 1 1 ■\n",
      "■ 1 ■ ■ 1 ■ ■ ■ 1 ■ ■\n",
      "■ 1 1 1 1 1 1 1 1 1 ■\n",
      "■ ■ ■ ■ ■ ■ ■ ■ ■ ■ ■\n"
     ]
    },
    {
     "ename": "KeyboardInterrupt",
     "evalue": "Interrupted by user",
     "output_type": "error",
     "traceback": [
      "\u001b[1;31m---------------------------------------------------------------------------\u001b[0m",
      "\u001b[1;31mKeyboardInterrupt\u001b[0m                         Traceback (most recent call last)",
      "Cell \u001b[1;32mIn[36], line 1\u001b[0m\n\u001b[1;32m----> 1\u001b[0m \u001b[43mrodar_jogo\u001b[49m\u001b[43m(\u001b[49m\u001b[43m)\u001b[49m\n",
      "Cell \u001b[1;32mIn[35], line 5\u001b[0m, in \u001b[0;36mrodar_jogo\u001b[1;34m()\u001b[0m\n\u001b[0;32m      3\u001b[0m \u001b[38;5;28;01mwhile\u001b[39;00m \u001b[38;5;129;01mnot\u001b[39;00m gamestate\u001b[38;5;241m.\u001b[39misTerminal():\n\u001b[0;32m      4\u001b[0m     \u001b[38;5;28;01mif\u001b[39;00m gamestate\u001b[38;5;241m.\u001b[39mturno:\n\u001b[1;32m----> 5\u001b[0m         movimento \u001b[38;5;241m=\u001b[39m jogador(gamestate, \u001b[43mobter_direcao\u001b[49m\u001b[43m(\u001b[49m\u001b[43m)\u001b[49m)\n\u001b[0;32m      6\u001b[0m         time\u001b[38;5;241m.\u001b[39msleep(\u001b[38;5;241m1\u001b[39m)\n\u001b[0;32m      7\u001b[0m         clear_output()\n",
      "Cell \u001b[1;32mIn[33], line 3\u001b[0m, in \u001b[0;36mobter_direcao\u001b[1;34m()\u001b[0m\n\u001b[0;32m      1\u001b[0m \u001b[38;5;28;01mdef\u001b[39;00m \u001b[38;5;21mobter_direcao\u001b[39m():\n\u001b[0;32m      2\u001b[0m     \u001b[38;5;66;03m# Solicita a entrada do usuário\u001b[39;00m\n\u001b[1;32m----> 3\u001b[0m     escolha \u001b[38;5;241m=\u001b[39m \u001b[38;5;28;43minput\u001b[39;49m\u001b[43m(\u001b[49m\u001b[38;5;124;43m\"\u001b[39;49m\u001b[38;5;124;43mEscolha uma direção (W = Norte, S = Sul, D = Leste (direita), A = Oeste, up = Subir de nível, down = Descer de nível) ou um andar para visualizar: \u001b[39;49m\u001b[38;5;124;43m\"\u001b[39;49m\u001b[43m)\u001b[49m\u001b[38;5;241m.\u001b[39mstrip()\u001b[38;5;241m.\u001b[39mlower()\n\u001b[0;32m      5\u001b[0m     \u001b[38;5;66;03m# Expressões regulares para capturar as direções\u001b[39;00m\n\u001b[0;32m      6\u001b[0m     direcoes \u001b[38;5;241m=\u001b[39m {\n\u001b[0;32m      7\u001b[0m         \u001b[38;5;124mr\u001b[39m\u001b[38;5;124m'\u001b[39m\u001b[38;5;124m^(n|norte|north|w)$\u001b[39m\u001b[38;5;124m'\u001b[39m: \u001b[38;5;124m'\u001b[39m\u001b[38;5;124mNorte\u001b[39m\u001b[38;5;124m'\u001b[39m,\n\u001b[0;32m      8\u001b[0m         \u001b[38;5;124mr\u001b[39m\u001b[38;5;124m'\u001b[39m\u001b[38;5;124m^(s|sul|south)$\u001b[39m\u001b[38;5;124m'\u001b[39m: \u001b[38;5;124m'\u001b[39m\u001b[38;5;124mSul\u001b[39m\u001b[38;5;124m'\u001b[39m,\n\u001b[1;32m   (...)\u001b[0m\n\u001b[0;32m     15\u001b[0m         \u001b[38;5;124mr\u001b[39m\u001b[38;5;124m'\u001b[39m\u001b[38;5;124m^(3|andar 3| andar3)$\u001b[39m\u001b[38;5;124m'\u001b[39m: \u001b[38;5;124m\"\u001b[39m\u001b[38;5;124mAndar 3\u001b[39m\u001b[38;5;124m\"\u001b[39m,\n\u001b[0;32m     16\u001b[0m     }\n",
      "File \u001b[1;32m~\\AppData\\Local\\Packages\\PythonSoftwareFoundation.Python.3.10_qbz5n2kfra8p0\\LocalCache\\local-packages\\Python310\\site-packages\\ipykernel\\kernelbase.py:1282\u001b[0m, in \u001b[0;36mKernel.raw_input\u001b[1;34m(self, prompt)\u001b[0m\n\u001b[0;32m   1280\u001b[0m     msg \u001b[38;5;241m=\u001b[39m \u001b[38;5;124m\"\u001b[39m\u001b[38;5;124mraw_input was called, but this frontend does not support input requests.\u001b[39m\u001b[38;5;124m\"\u001b[39m\n\u001b[0;32m   1281\u001b[0m     \u001b[38;5;28;01mraise\u001b[39;00m StdinNotImplementedError(msg)\n\u001b[1;32m-> 1282\u001b[0m \u001b[38;5;28;01mreturn\u001b[39;00m \u001b[38;5;28;43mself\u001b[39;49m\u001b[38;5;241;43m.\u001b[39;49m\u001b[43m_input_request\u001b[49m\u001b[43m(\u001b[49m\n\u001b[0;32m   1283\u001b[0m \u001b[43m    \u001b[49m\u001b[38;5;28;43mstr\u001b[39;49m\u001b[43m(\u001b[49m\u001b[43mprompt\u001b[49m\u001b[43m)\u001b[49m\u001b[43m,\u001b[49m\n\u001b[0;32m   1284\u001b[0m \u001b[43m    \u001b[49m\u001b[38;5;28;43mself\u001b[39;49m\u001b[38;5;241;43m.\u001b[39;49m\u001b[43m_parent_ident\u001b[49m\u001b[43m[\u001b[49m\u001b[38;5;124;43m\"\u001b[39;49m\u001b[38;5;124;43mshell\u001b[39;49m\u001b[38;5;124;43m\"\u001b[39;49m\u001b[43m]\u001b[49m\u001b[43m,\u001b[49m\n\u001b[0;32m   1285\u001b[0m \u001b[43m    \u001b[49m\u001b[38;5;28;43mself\u001b[39;49m\u001b[38;5;241;43m.\u001b[39;49m\u001b[43mget_parent\u001b[49m\u001b[43m(\u001b[49m\u001b[38;5;124;43m\"\u001b[39;49m\u001b[38;5;124;43mshell\u001b[39;49m\u001b[38;5;124;43m\"\u001b[39;49m\u001b[43m)\u001b[49m\u001b[43m,\u001b[49m\n\u001b[0;32m   1286\u001b[0m \u001b[43m    \u001b[49m\u001b[43mpassword\u001b[49m\u001b[38;5;241;43m=\u001b[39;49m\u001b[38;5;28;43;01mFalse\u001b[39;49;00m\u001b[43m,\u001b[49m\n\u001b[0;32m   1287\u001b[0m \u001b[43m\u001b[49m\u001b[43m)\u001b[49m\n",
      "File \u001b[1;32m~\\AppData\\Local\\Packages\\PythonSoftwareFoundation.Python.3.10_qbz5n2kfra8p0\\LocalCache\\local-packages\\Python310\\site-packages\\ipykernel\\kernelbase.py:1325\u001b[0m, in \u001b[0;36mKernel._input_request\u001b[1;34m(self, prompt, ident, parent, password)\u001b[0m\n\u001b[0;32m   1322\u001b[0m \u001b[38;5;28;01mexcept\u001b[39;00m \u001b[38;5;167;01mKeyboardInterrupt\u001b[39;00m:\n\u001b[0;32m   1323\u001b[0m     \u001b[38;5;66;03m# re-raise KeyboardInterrupt, to truncate traceback\u001b[39;00m\n\u001b[0;32m   1324\u001b[0m     msg \u001b[38;5;241m=\u001b[39m \u001b[38;5;124m\"\u001b[39m\u001b[38;5;124mInterrupted by user\u001b[39m\u001b[38;5;124m\"\u001b[39m\n\u001b[1;32m-> 1325\u001b[0m     \u001b[38;5;28;01mraise\u001b[39;00m \u001b[38;5;167;01mKeyboardInterrupt\u001b[39;00m(msg) \u001b[38;5;28;01mfrom\u001b[39;00m \u001b[38;5;28;01mNone\u001b[39;00m\n\u001b[0;32m   1326\u001b[0m \u001b[38;5;28;01mexcept\u001b[39;00m \u001b[38;5;167;01mException\u001b[39;00m:\n\u001b[0;32m   1327\u001b[0m     \u001b[38;5;28mself\u001b[39m\u001b[38;5;241m.\u001b[39mlog\u001b[38;5;241m.\u001b[39mwarning(\u001b[38;5;124m\"\u001b[39m\u001b[38;5;124mInvalid Message:\u001b[39m\u001b[38;5;124m\"\u001b[39m, exc_info\u001b[38;5;241m=\u001b[39m\u001b[38;5;28;01mTrue\u001b[39;00m)\n",
      "\u001b[1;31mKeyboardInterrupt\u001b[0m: Interrupted by user"
     ]
    }
   ],
   "source": [
    "rodar_jogo()"
   ]
  }
 ],
 "metadata": {
  "kernelspec": {
   "display_name": "Python 3",
   "language": "python",
   "name": "python3"
  },
  "language_info": {
   "codemirror_mode": {
    "name": "ipython",
    "version": 3
   },
   "file_extension": ".py",
   "mimetype": "text/x-python",
   "name": "python",
   "nbconvert_exporter": "python",
   "pygments_lexer": "ipython3",
   "version": "3.10.11"
  }
 },
 "nbformat": 4,
 "nbformat_minor": 2
}
