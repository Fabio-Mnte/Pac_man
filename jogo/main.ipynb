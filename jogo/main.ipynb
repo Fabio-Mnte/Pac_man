{
 "cells": [
  {
   "cell_type": "code",
   "execution_count": 40,
   "metadata": {},
   "outputs": [],
   "source": [
    "from tabuleiro import tabuleiro\n",
    "from state import state\n",
    "from numpy import Infinity\n",
    "import re\n",
    "from IPython.display import clear_output\n",
    "import time\n",
    "import copy"
   ]
  },
  {
   "cell_type": "code",
   "execution_count": 41,
   "metadata": {},
   "outputs": [],
   "source": [
    "gameTabuleiro = tabuleiro()"
   ]
  },
  {
   "cell_type": "code",
   "execution_count": 42,
   "metadata": {},
   "outputs": [],
   "source": [
    "pacman_inicial = [1,1,0]"
   ]
  },
  {
   "cell_type": "code",
   "execution_count": 43,
   "metadata": {},
   "outputs": [],
   "source": [
    "fantasma_inicial = [9,9,0]"
   ]
  },
  {
   "cell_type": "code",
   "execution_count": 44,
   "metadata": {},
   "outputs": [],
   "source": [
    "turno_inicial = True #Jogador"
   ]
  },
  {
   "cell_type": "code",
   "execution_count": 45,
   "metadata": {},
   "outputs": [],
   "source": [
    "gamestate = state(tabuleiro(), pacman_inicial, fantasma_inicial, turno_inicial, 10)"
   ]
  },
  {
   "cell_type": "code",
   "execution_count": 46,
   "metadata": {},
   "outputs": [],
   "source": [
    "def MinMax(state, moves, depth, turno):\n",
    "    if turno:  \n",
    "        best_score = float('-inf')\n",
    "        best_move = None\n",
    "    else:  \n",
    "        best_score = float('inf')\n",
    "        best_move = None\n",
    "    if depth == 0 or state.isTerminal():\n",
    "        score = state.get_score()\n",
    "        return [None, score]\n",
    "   \n",
    "    for move in moves:\n",
    "        next_state = state.update(move)\n",
    "        _, current_score = MinMax(next_state, next_state.movimentos_validos(), depth - 1, not turno)\n",
    "        if turno:  \n",
    "            '''Maximiza para o Jogador Humano'''\n",
    "            if current_score > best_score:\n",
    "                best_score = current_score\n",
    "                best_move = move\n",
    "        else:  \n",
    "            '''Minimiza para o Fantasma'''\n",
    "            if current_score < best_score:\n",
    "                best_score = current_score\n",
    "                best_move = move\n",
    "    return [best_move, best_score]\n"
   ]
  },
  {
   "cell_type": "code",
   "execution_count": 62,
   "metadata": {},
   "outputs": [],
   "source": [
    "def HillClimb(gamestate: state, depth, lista_movimentos, moves = []):\n",
    "    if depth == 0 or gamestate.ghost == gamestate.pacman :\n",
    "        return [None, gamestate.get_distance(), lista_movimentos]\n",
    "    \n",
    "    moves = gamestate.movimentos_validos()\n",
    "    melhor_distancia = gamestate.get_distance()\n",
    "    melhorou = True\n",
    "    melhor_movimento = moves[0]\n",
    "    \n",
    "    while melhorou:\n",
    "        melhorou = False\n",
    "        for move in moves:     \n",
    "            lista_movimentos.append(move)\n",
    "            next_state = state.update(gamestate, move)\n",
    "            _, distancia_nova, lista_movimentos = HillClimb(next_state, depth - 1, lista_movimentos)\n",
    "            if distancia_nova < melhor_distancia or distancia_nova == 0:\n",
    "                melhor_distancia = distancia_nova\n",
    "                melhor_movimento = move\n",
    "                melhorou = True\n",
    "    \n",
    "    return melhor_movimento, melhor_distancia, lista_movimentos"
   ]
  },
  {
   "cell_type": "code",
   "execution_count": 48,
   "metadata": {},
   "outputs": [],
   "source": [
    "def obter_direcao():\n",
    "    # Solicita a entrada do usuário\n",
    "    escolha = input(\"Escolha uma direção (W = Norte, S = Sul, D = Leste (direita), A = Oeste, up = Subir de nível, down = Descer de nível) ou um andar para visualizar: \").strip().lower()\n",
    "\n",
    "    # Expressões regulares para capturar as direções\n",
    "    direcoes = {\n",
    "        r'^(n|norte|north|w)$': 'Norte',\n",
    "        r'^(s|sul|south)$': 'Sul',\n",
    "        r'^(l|leste|east|direita|right|d)$': 'Leste',\n",
    "        r'^(o|oeste|west|esquerda|left|a)$': 'Oeste',\n",
    "        r'^(up|subir|subir de nivel|subir de nível|ascender)$': 'Subir de nível',\n",
    "        r'^(down|descer|descer de nivel|descer de nível|descender)$': 'Descer de nível',\n",
    "        r'^(1|andar 1| andar1)$': \"Andar 1\",\n",
    "        r'^(2|andar 2| andar2)$': \"Andar 2\",\n",
    "        r'^(3|andar 3| andar3)$': \"Andar 3\",\n",
    "    }\n",
    "\n",
    "    # Verifica se a escolha do usuário corresponde a alguma das expressões regulares\n",
    "    for padrao, direcao in direcoes.items():\n",
    "        if re.match(padrao, escolha):\n",
    "            return direcao\n",
    "    \n",
    "    return\n",
    "        "
   ]
  },
  {
   "cell_type": "code",
   "execution_count": 49,
   "metadata": {},
   "outputs": [],
   "source": [
    "def jogador(state:state, direcao):\n",
    "    while True:\n",
    "        x, y, z = state.pacman\n",
    "        # Ajusta a posição com base na direção\n",
    "        if direcao == 'Norte':\n",
    "            x -= 1  # Move para cima no plano 2D\n",
    "        elif direcao == 'Sul':\n",
    "            x += 1  # Move para baixo no plano 2D\n",
    "        elif direcao == 'Leste':\n",
    "            y += 1  # Move para a direita\n",
    "        elif direcao == 'Oeste':\n",
    "            y -= 1  # Move para a esquerda\n",
    "        elif direcao == 'Subir de nível':\n",
    "            z += 1  # Sobe de nível\n",
    "        elif direcao == 'Descer de nível':\n",
    "            z -= 1  # Desce de nível\n",
    "        if [x,y,z] in state.movimentos_validos():\n",
    "            return [x, y, z]\n",
    "        elif direcao == \"Andar 1\":\n",
    "            clear_output()\n",
    "            state.tabuleiro.imprimir_tabuleiro(0)\n",
    "            direcao = obter_direcao()\n",
    "        elif direcao == \"Andar 2\":\n",
    "            clear_output()\n",
    "            state.tabuleiro.imprimir_tabuleiro(1)\n",
    "            direcao = obter_direcao()\n",
    "        elif direcao == \"Andar 3\":\n",
    "            clear_output()\n",
    "            state.tabuleiro.imprimir_tabuleiro(2)\n",
    "            direcao = obter_direcao()\n",
    "        else:\n",
    "            print(\"Movimento inválido ou fora dos limites da matriz!\")\n",
    "            direcao = obter_direcao()\n",
    "    "
   ]
  },
  {
   "cell_type": "code",
   "execution_count": 65,
   "metadata": {},
   "outputs": [],
   "source": [
    "def rodar_jogo_hill_climb(turno_inicial:bool):\n",
    "    gamestate.tabuleiro.imprimir_tabuleiro(0)\n",
    "    rodadas = 0\n",
    "    gamestate.turno = turno_inicial\n",
    "    while not gamestate.isTerminal():\n",
    "        if gamestate.turno:\n",
    "            movimento = jogador(gamestate, obter_direcao())\n",
    "            time.sleep(1)\n",
    "            clear_output()\n",
    "            gamestate.update(movimento)\n",
    "            gamestate.tabuleiro.imprimir_tabuleiro(movimento[2])\n",
    "        else:\n",
    "            if rodadas != 0 and rodadas != 1:\n",
    "                gamestate.clear_range(movimento_bot[2])\n",
    "            copia = copy.deepcopy(gamestate)\n",
    "            movimento_bot = HillClimb(copia, 2, gamestate.movimentos_validos())\n",
    "            gamestate.update(movimento_bot[0])\n",
    "            gamestate.update_range(movimento_bot[2])\n",
    "            clear_output()\n",
    "            print(movimento_bot[0], movimento_bot[1])\n",
    "            \n",
    "            gamestate.tabuleiro.imprimir_tabuleiro(movimento_bot[0][2])\n",
    "        rodadas += 1\n",
    "        gamestate.turno = not gamestate.turno"
   ]
  },
  {
   "cell_type": "code",
   "execution_count": 51,
   "metadata": {},
   "outputs": [],
   "source": [
    "def rodar_jogo_min_max(turno_inicial:bool):\n",
    "    gamestate.tabuleiro.imprimir_tabuleiro(0)\n",
    "    gamestate.turno = turno_inicial\n",
    "    while not gamestate.isTerminal():\n",
    "        if gamestate.turno:\n",
    "            movimento = jogador(gamestate, obter_direcao())\n",
    "            time.sleep(1)\n",
    "            clear_output()\n",
    "            gamestate.update(movimento)\n",
    "            gamestate.tabuleiro.imprimir_tabuleiro(movimento[2])\n",
    "            \n",
    "        else:\n",
    "            copia = copy.deepcopy(gamestate)\n",
    "            movimento = MinMax(copia, gamestate.movimentos_validos(), gamestate.Maxdepth, gamestate.turno)\n",
    "            gamestate.update(movimento[0])\n",
    "            clear_output()\n",
    "            print(movimento)\n",
    "            \n",
    "            \n",
    "            gamestate.tabuleiro.imprimir_tabuleiro(movimento[0][2])\n",
    "        gamestate.turno = not gamestate.turno"
   ]
  },
  {
   "cell_type": "code",
   "execution_count": 52,
   "metadata": {},
   "outputs": [],
   "source": [
    "def escolha_inicial():\n",
    "    while True:\n",
    "        escolha = input(\"Você deseja iniciar o jogo?\")\n",
    "        if escolha == \"Sim\" or escolha == \"s\":\n",
    "            return True\n",
    "        elif escolha ==\"Nao\" or escolha == \"n\":\n",
    "            return False\n",
    "        else:\n",
    "            print(\"Favor digite Sim ou Nao\")"
   ]
  },
  {
   "cell_type": "code",
   "execution_count": 53,
   "metadata": {},
   "outputs": [
    {
     "name": "stdout",
     "output_type": "stream",
     "text": [
      "jogo terminado\n"
     ]
    }
   ],
   "source": [
    "try:\n",
    "    rodar_jogo_min_max(escolha_inicial())\n",
    "except KeyboardInterrupt as e:\n",
    "    print(\"jogo terminado\")\n"
   ]
  },
  {
   "cell_type": "code",
   "execution_count": null,
   "metadata": {},
   "outputs": [],
   "source": []
  },
  {
   "cell_type": "code",
   "execution_count": 63,
   "metadata": {},
   "outputs": [
    {
     "name": "stdout",
     "output_type": "stream",
     "text": [
      "■ ■ ■ ■ ■ ■ ■ ■ ■ ■ ■\n",
      "■ 1 1 1 1 1 ■ 1 1 1 ■\n",
      "■ 1 ■ 1 ■ \u001b[1m1\u001b[0m ■ 1 ■ 1 ■\n",
      "■ 1 ■ 1 ■ \u001b[1m1\u001b[0m \u001b[1m1\u001b[0m 1 ■ 1 ■\n",
      "■ 1 1 1 ■ ■ 1 ■ ■ 1 ■\n",
      "■ 1 ■ 1 1 1 1 1 ■ 1 ■\n",
      "■ 1 ■ 1 1 1 ■ 1 ■ 1 ■\n",
      "■ 1 1 1 ■ 1 ■ 1 1 1 ■\n",
      "■ ■ ■ 1 ■ 1 ■ 1 1 ■ ■\n",
      "■ 1 1 1 ■ 1 1 1 1 1 ■\n",
      "■ ■ ■ ■ ■ ■ ■ ■ ■ ■ ■\n",
      "jogo terminado\n"
     ]
    }
   ],
   "source": [
    "try:\n",
    "    rodar_jogo_hill_climb(escolha_inicial())\n",
    "except KeyboardInterrupt as e:\n",
    "    print(\"jogo terminado\")"
   ]
  }
 ],
 "metadata": {
  "kernelspec": {
   "display_name": "Python 3",
   "language": "python",
   "name": "python3"
  },
  "language_info": {
   "codemirror_mode": {
    "name": "ipython",
    "version": 3
   },
   "file_extension": ".py",
   "mimetype": "text/x-python",
   "name": "python",
   "nbconvert_exporter": "python",
   "pygments_lexer": "ipython3",
   "version": "3.12.3"
  }
 },
 "nbformat": 4,
 "nbformat_minor": 2
}
