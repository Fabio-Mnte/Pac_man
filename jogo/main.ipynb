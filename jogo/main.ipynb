{
 "cells": [
  {
   "cell_type": "code",
   "execution_count": 15,
   "metadata": {},
   "outputs": [],
   "source": [
    "from tabuleiro import tabuleiro\n",
    "from state import state\n",
    "from numpy import Infinity\n",
    "import re\n",
    "from IPython.display import clear_output\n",
    "import time\n",
    "import copy"
   ]
  },
  {
   "cell_type": "code",
   "execution_count": 16,
   "metadata": {},
   "outputs": [],
   "source": [
    "gameTabuleiro = tabuleiro()"
   ]
  },
  {
   "cell_type": "code",
   "execution_count": 17,
   "metadata": {},
   "outputs": [],
   "source": [
    "pacman_inicial = [1,1,0]"
   ]
  },
  {
   "cell_type": "code",
   "execution_count": 18,
   "metadata": {},
   "outputs": [],
   "source": [
    "fantasma_inicial = [9,9,0]"
   ]
  },
  {
   "cell_type": "code",
   "execution_count": 19,
   "metadata": {},
   "outputs": [],
   "source": [
    "turno_inicial = True #Jogador"
   ]
  },
  {
   "cell_type": "code",
   "execution_count": 20,
   "metadata": {},
   "outputs": [],
   "source": [
    "gamestate = state(tabuleiro(), pacman_inicial, fantasma_inicial, turno_inicial, 10)"
   ]
  },
  {
   "cell_type": "code",
   "execution_count": 21,
   "metadata": {},
   "outputs": [],
   "source": [
    "def MinMax(state, moves, depth, turno):\n",
    "    # Inicializa o melhor valor para maximização e minimização\n",
    "    if turno:  # Se for turno do Max (Jogador Humano)\n",
    "        best_score = float('-inf')\n",
    "        best_move = None\n",
    "    else:  # Se for turno do Min (Fantasma)\n",
    "        best_score = float('inf')\n",
    "        best_move = None\n",
    "\n",
    "    # Verifica se atingiu a profundidade máxima ou um estado terminal\n",
    "    if depth == 0 or state.isTerminal():\n",
    "        score = state.get_score()\n",
    "        return [None, score]\n",
    "\n",
    "    # Itera pelos movimentos possíveis\n",
    "    for move in moves:\n",
    "        # Gera um novo estado aplicando o movimento atual\n",
    "        next_state = state.update(move)\n",
    "        \n",
    "        \n",
    "        # Calcula o score do novo estado chamandOo recursivamente o MinMax\n",
    "        \n",
    "        _, current_score = MinMax(next_state, next_state.movimentos_validos(), depth - 1, not turno)\n",
    "\n",
    "        # Atualiza o melhor score e o melhor movimento com base no turno\n",
    "        if turno:  # Maximiza para o Jogador Humano\n",
    "            if current_score > best_score:\n",
    "                best_score = current_score\n",
    "                best_move = move\n",
    "        else:  # Minimiza para o Fantasma\n",
    "            if current_score < best_score:\n",
    "                best_score = current_score\n",
    "                best_move = move\n",
    "    \n",
    "    #print(f\"best move: {best_move}, best score: {best_score}\")\n",
    "\n",
    "    return [best_move, best_score]\n"
   ]
  },
  {
   "cell_type": "code",
   "execution_count": 22,
   "metadata": {},
   "outputs": [],
   "source": [
    "def HillClimb(gamestate: state):\n",
    "    moves = gamestate.movimentos_validos()\n",
    "    melhor_distancia = gamestate.get_distance()\n",
    "    melhorou = True\n",
    "    melhor_movimento = moves[0]\n",
    "\n",
    "    while melhorou:\n",
    "        melhorou = False\n",
    "        for move in moves:\n",
    "            #next_state = state.update(move)\n",
    "            gamestate.ghost[0] += move[0]\n",
    "            gamestate.ghost[1] += move[1]\n",
    "            gamestate.ghost[2] += move[2]\n",
    "            \n",
    "            distancia_nova = gamestate.get_distance()\n",
    "\n",
    "            if distancia_nova < melhor_distancia:\n",
    "                melhor_distancia = distancia_nova\n",
    "                melhor_movimento = move\n",
    "                melhorou = True\n",
    "\n",
    "            gamestate.ghost[0] -= move[0]\n",
    "            gamestate.ghost[1] -= move[1]\n",
    "            gamestate.ghost[2] -= move[2]\n",
    "\n",
    "\n",
    "    return melhor_movimento"
   ]
  },
  {
   "cell_type": "code",
   "execution_count": 23,
   "metadata": {},
   "outputs": [],
   "source": [
    "def obter_direcao():\n",
    "    # Solicita a entrada do usuário\n",
    "    escolha = input(\"Escolha uma direção (W = Norte, S = Sul, D = Leste (direita), A = Oeste, up = Subir de nível, down = Descer de nível) ou um andar para visualizar: \").strip().lower()\n",
    "\n",
    "    # Expressões regulares para capturar as direções\n",
    "    direcoes = {\n",
    "        r'^(n|norte|north|w)$': 'Norte',\n",
    "        r'^(s|sul|south)$': 'Sul',\n",
    "        r'^(l|leste|east|direita|right|d)$': 'Leste',\n",
    "        r'^(o|oeste|west|esquerda|left|a)$': 'Oeste',\n",
    "        r'^(up|subir|subir de nivel|subir de nível|ascender)$': 'Subir de nível',\n",
    "        r'^(down|descer|descer de nivel|descer de nível|descender)$': 'Descer de nível',\n",
    "        r'^(1|andar 1| andar1)$': \"Andar 1\",\n",
    "        r'^(2|andar 2| andar2)$': \"Andar 2\",\n",
    "        r'^(3|andar 3| andar3)$': \"Andar 3\",\n",
    "    }\n",
    "\n",
    "    # Verifica se a escolha do usuário corresponde a alguma das expressões regulares\n",
    "    for padrao, direcao in direcoes.items():\n",
    "        if re.match(padrao, escolha):\n",
    "            return direcao\n",
    "    \n",
    "    return\n",
    "        "
   ]
  },
  {
   "cell_type": "code",
   "execution_count": 24,
   "metadata": {},
   "outputs": [],
   "source": [
    "def jogador(state:state, direcao):\n",
    "    while True:\n",
    "        x, y, z = state.pacman\n",
    "        # Ajusta a posição com base na direção\n",
    "        if direcao == 'Norte':\n",
    "            x -= 1  # Move para cima no plano 2D\n",
    "        elif direcao == 'Sul':\n",
    "            x += 1  # Move para baixo no plano 2D\n",
    "        elif direcao == 'Leste':\n",
    "            y += 1  # Move para a direita\n",
    "        elif direcao == 'Oeste':\n",
    "            y -= 1  # Move para a esquerda\n",
    "        elif direcao == 'Subir de nível':\n",
    "            z += 1  # Sobe de nível\n",
    "        elif direcao == 'Descer de nível':\n",
    "            z -= 1  # Desce de nível\n",
    "        if [x,y,z] in state.movimentos_validos():\n",
    "            return [x, y, z]\n",
    "        elif direcao == \"Andar 1\":\n",
    "            clear_output()\n",
    "            state.tabuleiro.imprimir_tabuleiro(0)\n",
    "            direcao = obter_direcao()\n",
    "        elif direcao == \"Andar 2\":\n",
    "            clear_output()\n",
    "            state.tabuleiro.imprimir_tabuleiro(1)\n",
    "            direcao = obter_direcao()\n",
    "        elif direcao == \"Andar 3\":\n",
    "            clear_output()\n",
    "            state.tabuleiro.imprimir_tabuleiro(2)\n",
    "            direcao = obter_direcao()\n",
    "        else:\n",
    "            print(\"Movimento inválido ou fora dos limites da matriz!\")\n",
    "            direcao = obter_direcao()\n",
    "    "
   ]
  },
  {
   "cell_type": "code",
   "execution_count": 25,
   "metadata": {},
   "outputs": [],
   "source": [
    "def rodar_jogo_hill_climb():\n",
    "    gamestate.tabuleiro.imprimir_tabuleiro(0)\n",
    "    while not gamestate.isTerminal():\n",
    "        if gamestate.turno:\n",
    "            movimento = jogador(gamestate, obter_direcao())\n",
    "            time.sleep(1)\n",
    "            clear_output()\n",
    "            gamestate.update(movimento)\n",
    "            gamestate.tabuleiro.imprimir_tabuleiro(movimento[2])\n",
    "        else:\n",
    "            copia = copy.deepcopy(gamestate)\n",
    "            movimento = HillClimb(gamestate)\n",
    "            gamestate.update(movimento)\n",
    "            clear_output()\n",
    "            print(movimento)\n",
    "            \n",
    "            gamestate.tabuleiro.imprimir_tabuleiro(movimento[2])\n",
    "\n",
    "        gamestate.turno = not gamestate.turno"
   ]
  },
  {
   "cell_type": "code",
   "execution_count": 26,
   "metadata": {},
   "outputs": [],
   "source": [
    "def rodar_jogo_min_max():\n",
    "    gamestate.tabuleiro.imprimir_tabuleiro(0)\n",
    "    while not gamestate.isTerminal():\n",
    "        if gamestate.turno:\n",
    "            movimento = jogador(gamestate, obter_direcao())\n",
    "            time.sleep(1)\n",
    "            clear_output()\n",
    "            gamestate.update(movimento)\n",
    "            gamestate.tabuleiro.imprimir_tabuleiro(movimento[2])\n",
    "            \n",
    "        else:\n",
    "            copia = copy.deepcopy(gamestate)\n",
    "            movimento = MinMax(copia, gamestate.movimentos_validos(), gamestate.Maxdepth, gamestate.turno)\n",
    "            gamestate.update(movimento[0])\n",
    "            clear_output()\n",
    "            #print(movimento)\n",
    "            \n",
    "            \n",
    "            gamestate.tabuleiro.imprimir_tabuleiro(movimento[0][2])\n",
    "        gamestate.turno = not gamestate.turno"
   ]
  },
  {
   "cell_type": "code",
   "execution_count": 27,
   "metadata": {},
   "outputs": [
    {
     "name": "stdout",
     "output_type": "stream",
     "text": [
      "■ ■ ■ ■ ■ ■ ■ ■ ■ ■ ■\n",
      "■ 0 0 1 1 1 1 1 1 1 ■\n",
      "■ ■ P ■ 1 ■ ■ ■ 1 ■ ■\n",
      "■ 1 1 ■ 1 1 1 1 1 1 ■\n",
      "■ 1 ■ ■ 1 ■ 1 ■ ■ 1 ■\n",
      "■ 1 1 1 1 ■ 1 ■ 1 1 ■\n",
      "■ 1 1 1 ■ ■ 1 ■ 1 ■ ■\n",
      "■ 1 1 1 1 1 1 ■ 1 1 ■\n",
      "■ 1 ■ ■ 1 ■ ■ ■ 1 ■ ■\n",
      "■ 1 1 1 1 1 1 1 F 1 ■\n",
      "■ ■ ■ ■ ■ ■ ■ ■ ■ ■ ■\n"
     ]
    },
    {
     "ename": "KeyboardInterrupt",
     "evalue": "",
     "output_type": "error",
     "traceback": [
      "\u001b[1;31m---------------------------------------------------------------------------\u001b[0m",
      "\u001b[1;31mKeyboardInterrupt\u001b[0m                         Traceback (most recent call last)",
      "Cell \u001b[1;32mIn[27], line 1\u001b[0m\n\u001b[1;32m----> 1\u001b[0m \u001b[43mrodar_jogo_min_max\u001b[49m\u001b[43m(\u001b[49m\u001b[43m)\u001b[49m\n",
      "Cell \u001b[1;32mIn[26], line 13\u001b[0m, in \u001b[0;36mrodar_jogo_min_max\u001b[1;34m()\u001b[0m\n\u001b[0;32m     11\u001b[0m \u001b[38;5;28;01melse\u001b[39;00m:\n\u001b[0;32m     12\u001b[0m     copia \u001b[38;5;241m=\u001b[39m copy\u001b[38;5;241m.\u001b[39mdeepcopy(gamestate)\n\u001b[1;32m---> 13\u001b[0m     movimento \u001b[38;5;241m=\u001b[39m \u001b[43mMinMax\u001b[49m\u001b[43m(\u001b[49m\u001b[43mcopia\u001b[49m\u001b[43m,\u001b[49m\u001b[43m \u001b[49m\u001b[43mgamestate\u001b[49m\u001b[38;5;241;43m.\u001b[39;49m\u001b[43mmovimentos_validos\u001b[49m\u001b[43m(\u001b[49m\u001b[43m)\u001b[49m\u001b[43m,\u001b[49m\u001b[43m \u001b[49m\u001b[43mgamestate\u001b[49m\u001b[38;5;241;43m.\u001b[39;49m\u001b[43mMaxdepth\u001b[49m\u001b[43m,\u001b[49m\u001b[43m \u001b[49m\u001b[43mgamestate\u001b[49m\u001b[38;5;241;43m.\u001b[39;49m\u001b[43mturno\u001b[49m\u001b[43m)\u001b[49m\n\u001b[0;32m     14\u001b[0m     gamestate\u001b[38;5;241m.\u001b[39mupdate(movimento[\u001b[38;5;241m0\u001b[39m])\n\u001b[0;32m     15\u001b[0m     clear_output()\n",
      "Cell \u001b[1;32mIn[21], line 23\u001b[0m, in \u001b[0;36mMinMax\u001b[1;34m(state, moves, depth, turno)\u001b[0m\n\u001b[0;32m     18\u001b[0m next_state \u001b[38;5;241m=\u001b[39m state\u001b[38;5;241m.\u001b[39mupdate(move)\n\u001b[0;32m     21\u001b[0m \u001b[38;5;66;03m# Calcula o score do novo estado chamandOo recursivamente o MinMax\u001b[39;00m\n\u001b[1;32m---> 23\u001b[0m _, current_score \u001b[38;5;241m=\u001b[39m \u001b[43mMinMax\u001b[49m\u001b[43m(\u001b[49m\u001b[43mnext_state\u001b[49m\u001b[43m,\u001b[49m\u001b[43m \u001b[49m\u001b[43mnext_state\u001b[49m\u001b[38;5;241;43m.\u001b[39;49m\u001b[43mmovimentos_validos\u001b[49m\u001b[43m(\u001b[49m\u001b[43m)\u001b[49m\u001b[43m,\u001b[49m\u001b[43m \u001b[49m\u001b[43mdepth\u001b[49m\u001b[43m \u001b[49m\u001b[38;5;241;43m-\u001b[39;49m\u001b[43m \u001b[49m\u001b[38;5;241;43m1\u001b[39;49m\u001b[43m,\u001b[49m\u001b[43m \u001b[49m\u001b[38;5;129;43;01mnot\u001b[39;49;00m\u001b[43m \u001b[49m\u001b[43mturno\u001b[49m\u001b[43m)\u001b[49m\n\u001b[0;32m     25\u001b[0m \u001b[38;5;66;03m# Atualiza o melhor score e o melhor movimento com base no turno\u001b[39;00m\n\u001b[0;32m     26\u001b[0m \u001b[38;5;28;01mif\u001b[39;00m turno:  \u001b[38;5;66;03m# Maximiza para o Jogador Humano\u001b[39;00m\n",
      "Cell \u001b[1;32mIn[21], line 23\u001b[0m, in \u001b[0;36mMinMax\u001b[1;34m(state, moves, depth, turno)\u001b[0m\n\u001b[0;32m     18\u001b[0m next_state \u001b[38;5;241m=\u001b[39m state\u001b[38;5;241m.\u001b[39mupdate(move)\n\u001b[0;32m     21\u001b[0m \u001b[38;5;66;03m# Calcula o score do novo estado chamandOo recursivamente o MinMax\u001b[39;00m\n\u001b[1;32m---> 23\u001b[0m _, current_score \u001b[38;5;241m=\u001b[39m \u001b[43mMinMax\u001b[49m\u001b[43m(\u001b[49m\u001b[43mnext_state\u001b[49m\u001b[43m,\u001b[49m\u001b[43m \u001b[49m\u001b[43mnext_state\u001b[49m\u001b[38;5;241;43m.\u001b[39;49m\u001b[43mmovimentos_validos\u001b[49m\u001b[43m(\u001b[49m\u001b[43m)\u001b[49m\u001b[43m,\u001b[49m\u001b[43m \u001b[49m\u001b[43mdepth\u001b[49m\u001b[43m \u001b[49m\u001b[38;5;241;43m-\u001b[39;49m\u001b[43m \u001b[49m\u001b[38;5;241;43m1\u001b[39;49m\u001b[43m,\u001b[49m\u001b[43m \u001b[49m\u001b[38;5;129;43;01mnot\u001b[39;49;00m\u001b[43m \u001b[49m\u001b[43mturno\u001b[49m\u001b[43m)\u001b[49m\n\u001b[0;32m     25\u001b[0m \u001b[38;5;66;03m# Atualiza o melhor score e o melhor movimento com base no turno\u001b[39;00m\n\u001b[0;32m     26\u001b[0m \u001b[38;5;28;01mif\u001b[39;00m turno:  \u001b[38;5;66;03m# Maximiza para o Jogador Humano\u001b[39;00m\n",
      "    \u001b[1;31m[... skipping similar frames: MinMax at line 23 (7 times)]\u001b[0m\n",
      "Cell \u001b[1;32mIn[21], line 23\u001b[0m, in \u001b[0;36mMinMax\u001b[1;34m(state, moves, depth, turno)\u001b[0m\n\u001b[0;32m     18\u001b[0m next_state \u001b[38;5;241m=\u001b[39m state\u001b[38;5;241m.\u001b[39mupdate(move)\n\u001b[0;32m     21\u001b[0m \u001b[38;5;66;03m# Calcula o score do novo estado chamandOo recursivamente o MinMax\u001b[39;00m\n\u001b[1;32m---> 23\u001b[0m _, current_score \u001b[38;5;241m=\u001b[39m \u001b[43mMinMax\u001b[49m\u001b[43m(\u001b[49m\u001b[43mnext_state\u001b[49m\u001b[43m,\u001b[49m\u001b[43m \u001b[49m\u001b[43mnext_state\u001b[49m\u001b[38;5;241;43m.\u001b[39;49m\u001b[43mmovimentos_validos\u001b[49m\u001b[43m(\u001b[49m\u001b[43m)\u001b[49m\u001b[43m,\u001b[49m\u001b[43m \u001b[49m\u001b[43mdepth\u001b[49m\u001b[43m \u001b[49m\u001b[38;5;241;43m-\u001b[39;49m\u001b[43m \u001b[49m\u001b[38;5;241;43m1\u001b[39;49m\u001b[43m,\u001b[49m\u001b[43m \u001b[49m\u001b[38;5;129;43;01mnot\u001b[39;49;00m\u001b[43m \u001b[49m\u001b[43mturno\u001b[49m\u001b[43m)\u001b[49m\n\u001b[0;32m     25\u001b[0m \u001b[38;5;66;03m# Atualiza o melhor score e o melhor movimento com base no turno\u001b[39;00m\n\u001b[0;32m     26\u001b[0m \u001b[38;5;28;01mif\u001b[39;00m turno:  \u001b[38;5;66;03m# Maximiza para o Jogador Humano\u001b[39;00m\n",
      "Cell \u001b[1;32mIn[21], line 12\u001b[0m, in \u001b[0;36mMinMax\u001b[1;34m(state, moves, depth, turno)\u001b[0m\n\u001b[0;32m     10\u001b[0m \u001b[38;5;66;03m# Verifica se atingiu a profundidade máxima ou um estado terminal\u001b[39;00m\n\u001b[0;32m     11\u001b[0m \u001b[38;5;28;01mif\u001b[39;00m depth \u001b[38;5;241m==\u001b[39m \u001b[38;5;241m0\u001b[39m \u001b[38;5;129;01mor\u001b[39;00m state\u001b[38;5;241m.\u001b[39misTerminal():\n\u001b[1;32m---> 12\u001b[0m     score \u001b[38;5;241m=\u001b[39m \u001b[43mstate\u001b[49m\u001b[38;5;241;43m.\u001b[39;49m\u001b[43mget_score\u001b[49m\u001b[43m(\u001b[49m\u001b[43m)\u001b[49m\n\u001b[0;32m     13\u001b[0m     \u001b[38;5;28;01mreturn\u001b[39;00m [\u001b[38;5;28;01mNone\u001b[39;00m, score]\n\u001b[0;32m     15\u001b[0m \u001b[38;5;66;03m# Itera pelos movimentos possíveis\u001b[39;00m\n",
      "File \u001b[1;32mc:\\Users\\Enzo\\Desktop\\Clone\\Pac_man\\jogo\\state.py:83\u001b[0m, in \u001b[0;36mstate.get_score\u001b[1;34m(self)\u001b[0m\n\u001b[0;32m     80\u001b[0m ghost_x, ghost_y, ghost_z \u001b[38;5;241m=\u001b[39m \u001b[38;5;28mself\u001b[39m\u001b[38;5;241m.\u001b[39mghost\n\u001b[0;32m     81\u001b[0m pacman_x, pacman_y, pacman_z \u001b[38;5;241m=\u001b[39m \u001b[38;5;28mself\u001b[39m\u001b[38;5;241m.\u001b[39mpacman\n\u001b[1;32m---> 83\u001b[0m distance \u001b[38;5;241m=\u001b[39m \u001b[38;5;28mabs\u001b[39m(ghost_x \u001b[38;5;241m-\u001b[39m pacman_x) \u001b[38;5;241m+\u001b[39m \u001b[38;5;28;43mabs\u001b[39;49m\u001b[43m(\u001b[49m\u001b[43mghost_y\u001b[49m\u001b[43m \u001b[49m\u001b[38;5;241;43m-\u001b[39;49m\u001b[43m \u001b[49m\u001b[43mpacman_y\u001b[49m\u001b[43m)\u001b[49m \u001b[38;5;241m+\u001b[39m \u001b[38;5;28mabs\u001b[39m(ghost_z \u001b[38;5;241m-\u001b[39m pacman_z)\n\u001b[0;32m     84\u001b[0m \u001b[38;5;28;01mreturn\u001b[39;00m distance\n",
      "\u001b[1;31mKeyboardInterrupt\u001b[0m: "
     ]
    }
   ],
   "source": [
    "rodar_jogo_min_max()"
   ]
  },
  {
   "cell_type": "code",
   "execution_count": 14,
   "metadata": {},
   "outputs": [
    {
     "name": "stdout",
     "output_type": "stream",
     "text": [
      "[5, 8, 0]\n",
      "■ ■ ■ ■ ■ ■ ■ ■ ■ ■ ■\n",
      "■ 0 0 1 1 1 1 1 1 1 ■\n",
      "■ ■ 0 ■ 1 ■ ■ ■ 1 ■ ■\n",
      "■ 0 0 ■ 0 0 0 0 0 0 ■\n",
      "■ 0 ■ ■ 0 ■ 1 ■ ■ 0 ■\n",
      "■ 0 0 0 0 ■ 1 ■ P 0 ■\n",
      "■ 1 1 1 ■ ■ 1 ■ F ■ ■\n",
      "■ 1 1 1 1 1 1 ■ 1 1 ■\n",
      "■ 1 ■ ■ 1 ■ ■ ■ 1 ■ ■\n",
      "■ 1 1 1 1 1 1 1 1 1 ■\n",
      "■ ■ ■ ■ ■ ■ ■ ■ ■ ■ ■\n",
      "Game Over...\n",
      "O fantasma Pegou o Pacman\n"
     ]
    }
   ],
   "source": [
    "#rodar_jogo_hill_climb()"
   ]
  }
 ],
 "metadata": {
  "kernelspec": {
   "display_name": "Python 3",
   "language": "python",
   "name": "python3"
  },
  "language_info": {
   "codemirror_mode": {
    "name": "ipython",
    "version": 3
   },
   "file_extension": ".py",
   "mimetype": "text/x-python",
   "name": "python",
   "nbconvert_exporter": "python",
   "pygments_lexer": "ipython3",
   "version": "3.12.3"
  }
 },
 "nbformat": 4,
 "nbformat_minor": 2
}
