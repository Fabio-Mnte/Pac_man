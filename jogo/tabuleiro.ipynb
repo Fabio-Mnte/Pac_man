{
 "cells": [
  {
   "cell_type": "markdown",
   "metadata": {},
   "source": [
    "# Definições base do tabuleiro\n",
    "-> tabuleiro deve seguir as imagens base\n",
    "\n",
    "-> tabuleiro deve possuir pontos de transição que permitam o agente ir de um andar ao outro\n",
    "\n",
    "-> tabuleiro precisa gerar as comidinhas"
   ]
  },
  {
   "cell_type": "code",
   "execution_count": 1,
   "metadata": {},
   "outputs": [
    {
     "name": "stdout",
     "output_type": "stream",
     "text": [
      "■ ■ ■ ■ ■ ■ ■ ■ ■ ■ ■\n",
      "■ 1 1 1 1 1 1 1 1 1 ■\n",
      "■ 1 1 1 1 1 1 1 1 1 ■\n",
      "■ 1 1 1 1 1 1 1 1 1 ■\n",
      "■ 1 1 1 1 1 1 1 1 1 ■\n",
      "■ 1 1 1 1 1 1 1 1 1 ■\n",
      "■ 1 1 1 1 1 1 1 1 1 ■\n",
      "■ 1 1 1 1 1 1 1 1 1 ■\n",
      "■ 1 1 1 1 1 1 1 1 1 ■\n",
      "■ 1 1 1 1 1 1 1 1 1 ■\n",
      "■ ■ ■ ■ ■ ■ ■ ■ ■ ■ ■\n"
     ]
    }
   ],
   "source": [
    "def criar_tabuleiro():\n",
    "    tabuleiro_base = []\n",
    "    # Cria uma matriz (lista de listas) com o elemento especificado\n",
    "    for i in range(11):\n",
    "        tabuleiro_base.append([])\n",
    "        for j in range(11):\n",
    "            if i == 0 or j == 0 or i == 10 or j == 10:\n",
    "                #tabuleiro_base[i].append(\"0\")\n",
    "                tabuleiro_base[i].append(\"■\")\n",
    "            else:\n",
    "                \n",
    "                #tabuleiro_base[i].append('0')\n",
    "                tabuleiro_base[i].append('1')\n",
    "    return tabuleiro_base\n",
    "\n",
    "def imprimir_tabuleiro(tabuleiro):\n",
    "    for linha in tabuleiro:\n",
    "        print(' '.join(str(celula) for celula in linha))\n",
    "\n",
    "# Criar o tabuleiro 11x11 com '1' representando as comidas\n",
    "tabuleiro_pacman = criar_tabuleiro()\n",
    "\n",
    "# Exibir o tabuleiro\n",
    "imprimir_tabuleiro(tabuleiro_pacman)\n"
   ]
  },
  {
   "cell_type": "code",
   "execution_count": 2,
   "metadata": {},
   "outputs": [
    {
     "data": {
      "text/plain": [
       "[['■', '■', '■', '■', '■', '■', '■', '■', '■', '■', '■'],\n",
       " ['■', 'P', '1', '1', '1', '1', '1', '1', '1', '1', '■'],\n",
       " ['■', '■', '1', '■', '1', '■', '■', '■', '1', '■', '■'],\n",
       " ['■', '1', '1', '■', '1', '1', '1', '1', '1', '1', '■'],\n",
       " ['■', '1', '■', '■', '1', '■', '1', '■', '■', '1', '■'],\n",
       " ['■', '1', '1', '1', '1', '■', '1', '■', '1', '1', '■'],\n",
       " ['■', '1', '1', '1', '■', '■', '1', '■', '1', '■', '■'],\n",
       " ['■', '1', '1', '1', '1', '1', '1', '■', '1', '1', '■'],\n",
       " ['■', '1', '■', '■', '1', '■', '■', '■', '1', '■', '■'],\n",
       " ['■', '1', '1', '1', '1', '1', '1', '1', '1', 'F', '■'],\n",
       " ['■', '■', '■', '■', '■', '■', '■', '■', '■', '■', '■']]"
      ]
     },
     "execution_count": 2,
     "metadata": {},
     "output_type": "execute_result"
    }
   ],
   "source": [
    "def andar1():\n",
    "    tabuleiro1 = criar_tabuleiro()\n",
    "    paredes = [[2,1],[2,3],[2,5],[2,6],[2,7],[2,9],\n",
    "               [3,3],\n",
    "               [4,2], [4,3], [4,5],[4,7],[4,8],\n",
    "               [5,5], [5,7],\n",
    "               [6,4],[6,5], [6,7], [6,9],\n",
    "               [7,7],\n",
    "               [8,2], [8,3], [8,5],[8,6],[8,7], [8,9]]\n",
    "    for parede in paredes:\n",
    "        i, j = parede\n",
    "        #tabuleiro1[i][j] = \"0\"\n",
    "        tabuleiro1[i][j] = \"■\"\n",
    "    #imprimir_tabuleiro(tabuleiro1)\n",
    "    tabuleiro1[1][1] = \"P\"\n",
    "    tabuleiro1[9][9] = \"F\"\n",
    "    return tabuleiro1\n",
    "andar1()"
   ]
  },
  {
   "cell_type": "code",
   "execution_count": 3,
   "metadata": {},
   "outputs": [
    {
     "data": {
      "text/plain": [
       "[['■', '■', '■', '■', '■', '■', '■', '■', '■', '■', '■'],\n",
       " ['■', '1', '1', '1', '1', '1', '■', '1', '1', '1', '■'],\n",
       " ['■', '1', '■', '1', '■', '1', '■', '1', '■', '1', '■'],\n",
       " ['■', '1', '■', '1', '■', '1', '1', '1', '■', '1', '■'],\n",
       " ['■', '1', '1', '1', '■', '■', '1', '■', '■', '1', '■'],\n",
       " ['■', '1', '■', '1', '1', '1', '1', '1', '■', '1', '■'],\n",
       " ['■', '1', '■', '1', '1', '1', '■', '1', '■', '1', '■'],\n",
       " ['■', '1', '1', '1', '■', '1', '■', '1', '1', '1', '■'],\n",
       " ['■', '■', '■', '1', '■', '1', '■', '1', '1', '■', '■'],\n",
       " ['■', '1', '1', '1', '■', '1', '1', '1', '1', '1', '■'],\n",
       " ['■', '■', '■', '■', '■', '■', '■', '■', '■', '■', '■']]"
      ]
     },
     "execution_count": 3,
     "metadata": {},
     "output_type": "execute_result"
    }
   ],
   "source": [
    "def andar2():\n",
    "    tabuleiro2 = criar_tabuleiro()\n",
    "    paredes = [[1,6],\n",
    "    [2, 2], [2, 4], [2, 6], [2, 8],  # Terceira linha\n",
    "    [3, 2], [3, 4], [3, 8], # Quarta linha\n",
    "    [4,4], [4,5], [4,7],[4,8], # Quinta linha\n",
    "    [5,2], [5,8], # Sexta linha\n",
    "    [6, 2], [6,6],[6, 8],   # Sétima linha\n",
    "    [7, 4], [7,6],  # Oitava linha\n",
    "    [8,1],[8,2],[8,4],[8,6], [8,9],# Laterais da nona linha\n",
    "    [9, 4]]  # Décima linha\n",
    "    for parede in paredes:\n",
    "        i, j = parede\n",
    "        #tabuleiro2[i][j] = \"0\"\n",
    "        tabuleiro2[i][j] = \"■\"\n",
    "    #imprimir_tabuleiro(tabuleiro2)\n",
    "    return tabuleiro2\n",
    "andar2()"
   ]
  },
  {
   "cell_type": "code",
   "execution_count": 4,
   "metadata": {},
   "outputs": [
    {
     "data": {
      "text/plain": [
       "[['■', '■', '■', '■', '■', '■', '■', '■', '■', '■', '■'],\n",
       " ['■', '1', '1', '1', '1', '1', '■', '1', '1', '1', '■'],\n",
       " ['■', '1', '■', '1', '1', '■', '■', '■', '■', '1', '■'],\n",
       " ['■', '1', '■', '1', '1', '1', '1', '1', '1', '1', '■'],\n",
       " ['■', '1', '■', '1', '■', '■', '■', '1', '■', '1', '■'],\n",
       " ['■', '1', '1', '1', '1', '1', '■', '1', '■', '1', '■'],\n",
       " ['■', '1', '■', '1', '■', '■', '■', '1', '1', '1', '■'],\n",
       " ['■', '1', '■', '1', '1', '1', '1', '1', '1', '1', '■'],\n",
       " ['■', '1', '■', '■', '1', '1', '■', '■', '■', '1', '■'],\n",
       " ['■', '1', '1', '■', '1', '1', '1', '1', '1', '1', '■'],\n",
       " ['■', '■', '■', '■', '■', '■', '■', '■', '■', '■', '■']]"
      ]
     },
     "execution_count": 4,
     "metadata": {},
     "output_type": "execute_result"
    }
   ],
   "source": [
    "def andar3():\n",
    "    tabuleiro3 = criar_tabuleiro()\n",
    "    paredes = [[1,6],\n",
    "    [2, 2], [2, 5], [2, 6],[2, 7], [2, 8],  # Terceira linha\n",
    "    [3, 2], # Quarta linha\n",
    "    [4,2], [4,4], [4,5],[4,6],[4,8], # Quinta linha\n",
    "    [5,6], [5,8], # Sexta linha\n",
    "    [6, 2], [6,4], [6,5], [6,6],   # Sétima linha\n",
    "    [7, 2],  # Oitava linha\n",
    "    [8,2],[8,3],[8,6],[8,7],[8,8],# Laterais da nona linha\n",
    "    [9, 3]]  # Décima linha\n",
    "    for parede in paredes:\n",
    "        i, j = parede\n",
    "        #tabuleiro3[i][j] = \"0\"\n",
    "        tabuleiro3[i][j] = \"■\"\n",
    "    #imprimir_tabuleiro(tabuleiro3)\n",
    "    return tabuleiro3\n",
    "    \n",
    "andar3()"
   ]
  },
  {
   "cell_type": "code",
   "execution_count": null,
   "metadata": {},
   "outputs": [],
   "source": []
  },
  {
   "cell_type": "markdown",
   "metadata": {},
   "source": [
    "# Gerando agentes\n"
   ]
  },
  {
   "cell_type": "code",
   "execution_count": 5,
   "metadata": {},
   "outputs": [],
   "source": [
    "from GameState import GameState\n",
    "import numpy as np\n",
    "from numpy import Infinity"
   ]
  },
  {
   "cell_type": "code",
   "execution_count": 6,
   "metadata": {},
   "outputs": [],
   "source": [
    "gamestate = GameState([andar1(), andar2(), andar3()], True, [1,1,0], [9,9,0])"
   ]
  },
  {
   "cell_type": "code",
   "execution_count": 7,
   "metadata": {},
   "outputs": [
    {
     "data": {
      "text/plain": [
       "[['■', '■', '■', '■', '■', '■', '■', '■', '■', '■', '■'],\n",
       " ['■', 'P', '1', '1', '1', '1', '1', '1', '1', '1', '■'],\n",
       " ['■', '■', '1', '■', '1', '■', '■', '■', '1', '■', '■'],\n",
       " ['■', '1', '1', '■', '1', '1', '1', '1', '1', '1', '■'],\n",
       " ['■', '1', '■', '■', '1', '■', '1', '■', '■', '1', '■'],\n",
       " ['■', '1', '1', '1', '1', '■', '1', '■', '1', '1', '■'],\n",
       " ['■', '1', '1', '1', '■', '■', '1', '■', '1', '■', '■'],\n",
       " ['■', '1', '1', '1', '1', '1', '1', '■', '1', '1', '■'],\n",
       " ['■', '1', '■', '■', '1', '■', '■', '■', '1', '■', '■'],\n",
       " ['■', '1', '1', '1', '1', '1', '1', '1', '1', 'F', '■'],\n",
       " ['■', '■', '■', '■', '■', '■', '■', '■', '■', '■', '■']]"
      ]
     },
     "execution_count": 7,
     "metadata": {},
     "output_type": "execute_result"
    }
   ],
   "source": [
    "gamestate.board_state[0]"
   ]
  },
  {
   "cell_type": "code",
   "execution_count": 8,
   "metadata": {},
   "outputs": [
    {
     "data": {
      "text/plain": [
       "False"
      ]
     },
     "execution_count": 8,
     "metadata": {},
     "output_type": "execute_result"
    }
   ],
   "source": [
    "gamestate.is_terminal()"
   ]
  },
  {
   "cell_type": "code",
   "execution_count": 17,
   "metadata": {},
   "outputs": [],
   "source": [
    "def MinMax(state:list, depth:int, turn:bool, moves:list):\n",
    "    best = []\n",
    "    if turn:\n",
    "        best = [-1,-1,-1, Infinity]\n",
    "    else:\n",
    "        best = [-1, -1, -1, -Infinity]\n",
    "    \n",
    "    if depth == 0 or gamestate.is_terminal():\n",
    "         score = gamestate.score(gamestate.pos_max if gamestate.turn_Max else gamestate.pos_min, best)\n",
    "         return [-1, -1, -1, score]\n",
    "\n",
    "    \n",
    "    for i in moves:\n",
    "        if turn:\n",
    "            state = gamestate.get_new_state(gamestate.pos_max,i)\n",
    "            #print(state.get_possible_moves())\n",
    "            score = MinMax(state, depth-1, not turn, state.get_possible_moves())\n",
    "            score[0], score[1], score[2] = i[0], i[1], i[2]\n",
    "            if score[3] > best[3]:\n",
    "                best = score\n",
    "            print(best)\n",
    "        else:\n",
    "            state = gamestate.get_new_state(gamestate.pos_min,i)\n",
    "            #print(state.get_possible_moves())\n",
    "            score = MinMax(state, depth-1, not turn, state.get_possible_moves())\n",
    "            score[0], score[1], score[2] = i[0], i[1], i[2]\n",
    "            if score[3] > best[3]:\n",
    "                best = score\n",
    "            print(best)\n",
    "    return best\n",
    "            "
   ]
  },
  {
   "cell_type": "code",
   "execution_count": 25,
   "metadata": {},
   "outputs": [],
   "source": [
    "def movimento_jogador():\n",
    "    escolha = input(\"Digite o movimento desejado (cima, baixo, esquerda, direita, subir ou descer)\")\n",
    "    escolha.lower()\n",
    "    try:\n",
    "        if escolha == \"cima\":\n",
    "            gamestate.pos_max = [gamestate.pos_max[0]+1,gamestate.pos_max[1], gamestate.pos_max[2] ]\n",
    "        elif escolha == \"baixo\":\n",
    "            gamestate.pos_max = [gamestate.pos_max[0]-1,gamestate.pos_max[1], gamestate.pos_max[2] ]\n",
    "        elif escolha == \"esquerda\":\n",
    "            gamestate.pos_max = [gamestate.pos_max[0],gamestate.pos_max[1]-1, gamestate.pos_max[2] ]\n",
    "        elif escolha == \"direita\":\n",
    "            gamestate.pos_max = [gamestate.pos_max[0],gamestate.pos_max[1]+1, gamestate.pos_max[2] ]\n",
    "        elif escolha == \"subir\":\n",
    "            gamestate.pos_max = [gamestate.pos_max[0],gamestate.pos_max[1]+1, gamestate.pos_max[2]+1]\n",
    "        elif escolha == \"descer\":\n",
    "            gamestate.pos_max = [gamestate.pos_max[0],gamestate.pos_max[1]+1, gamestate.pos_max[2]-1]\n",
    "    except IndexError as e:\n",
    "        print(\"Movimento bloqueado, tente outra rota\")\n",
    "        movimento_jogador()\n",
    "     #or \"baixo\" or \"esquerda\" or \"direita\" or \"subir\" or \"descer\":\n",
    "        \n",
    "    "
   ]
  },
  {
   "cell_type": "code",
   "execution_count": 26,
   "metadata": {},
   "outputs": [],
   "source": [
    "def iniciarJogo(jogador_inicial: bool):\n",
    "    gamestate.turn_Max = jogador_inicial\n",
    "    while not gamestate.is_terminal():\n",
    "        if gamestate.turn_Max:\n",
    "            gamestate.get_new_state(gamestate.pos_max, movimento_jogador())\n",
    "            gamestate.turn_Max = False\n",
    "        else:\n",
    "            movimento_escolhido = MinMax(gamestate.board_state, gamestate.get_depth(), gamestate.turn_Max, gamestate.get_possible_moves())\n",
    "            gamestate.get_new_state(gamestate.pos_min, movimento_escolhido)\n",
    "            gamestate.turn_Max = True\n",
    "        if movimento_escolhido[3] == 0:\n",
    "            print(gamestate.board_state[0])\n",
    "        elif movimento_escolhido[3] == 1:\n",
    "            print(gamestate.board_state[1])\n",
    "        else:\n",
    "           print(gamestate.board_state[2])"
   ]
  },
  {
   "cell_type": "code",
   "execution_count": 27,
   "metadata": {},
   "outputs": [
    {
     "ename": "UnboundLocalError",
     "evalue": "local variable 'movimento_escolhido' referenced before assignment",
     "output_type": "error",
     "traceback": [
      "\u001b[1;31m---------------------------------------------------------------------------\u001b[0m",
      "\u001b[1;31mUnboundLocalError\u001b[0m                         Traceback (most recent call last)",
      "Cell \u001b[1;32mIn[27], line 1\u001b[0m\n\u001b[1;32m----> 1\u001b[0m \u001b[43miniciarJogo\u001b[49m\u001b[43m(\u001b[49m\u001b[38;5;28;43;01mTrue\u001b[39;49;00m\u001b[43m)\u001b[49m\n",
      "Cell \u001b[1;32mIn[26], line 11\u001b[0m, in \u001b[0;36miniciarJogo\u001b[1;34m(jogador_inicial)\u001b[0m\n\u001b[0;32m      9\u001b[0m     gamestate\u001b[38;5;241m.\u001b[39mget_new_state(gamestate\u001b[38;5;241m.\u001b[39mpos_min, movimento_escolhido)\n\u001b[0;32m     10\u001b[0m     gamestate\u001b[38;5;241m.\u001b[39mturn_Max \u001b[38;5;241m=\u001b[39m \u001b[38;5;28;01mTrue\u001b[39;00m\n\u001b[1;32m---> 11\u001b[0m \u001b[38;5;28;01mif\u001b[39;00m \u001b[43mmovimento_escolhido\u001b[49m[\u001b[38;5;241m3\u001b[39m] \u001b[38;5;241m==\u001b[39m \u001b[38;5;241m0\u001b[39m:\n\u001b[0;32m     12\u001b[0m     \u001b[38;5;28mprint\u001b[39m(gamestate\u001b[38;5;241m.\u001b[39mboard_state[\u001b[38;5;241m0\u001b[39m])\n\u001b[0;32m     13\u001b[0m \u001b[38;5;28;01melif\u001b[39;00m movimento_escolhido[\u001b[38;5;241m3\u001b[39m] \u001b[38;5;241m==\u001b[39m \u001b[38;5;241m1\u001b[39m:\n",
      "\u001b[1;31mUnboundLocalError\u001b[0m: local variable 'movimento_escolhido' referenced before assignment"
     ]
    }
   ],
   "source": [
    "iniciarJogo(True)"
   ]
  }
 ],
 "metadata": {
  "kernelspec": {
   "display_name": "Python 3",
   "language": "python",
   "name": "python3"
  },
  "language_info": {
   "codemirror_mode": {
    "name": "ipython",
    "version": 3
   },
   "file_extension": ".py",
   "mimetype": "text/x-python",
   "name": "python",
   "nbconvert_exporter": "python",
   "pygments_lexer": "ipython3",
   "version": "3.10.11"
  }
 },
 "nbformat": 4,
 "nbformat_minor": 2
}
