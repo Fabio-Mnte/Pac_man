{
 "cells": [
  {
   "cell_type": "markdown",
   "metadata": {},
   "source": [
    "# Definições base do tabuleiro\n",
    "-> tabuleiro deve seguir as imagens base\n",
    "\n",
    "-> tabuleiro deve possuir pontos de transição que permitam o agente ir de um andar ao outro\n",
    "\n",
    "-> tabuleiro precisa gerar as comidinhas"
   ]
  },
  {
   "cell_type": "code",
   "execution_count": 1,
   "metadata": {},
   "outputs": [],
   "source": [
    "def criar_tabuleiro():\n",
    "    tabuleiro_base = []\n",
    "    # Cria uma matriz (lista de listas) com o elemento especificado\n",
    "    for i in range(11):\n",
    "        tabuleiro_base.append([])\n",
    "        for j in range(11):\n",
    "            if i == 0 or j == 0 or i == 10 or j == 10:\n",
    "                #tabuleiro_base[i].append(\"0\")\n",
    "                tabuleiro_base[i].append(\"■\")\n",
    "            else:\n",
    "                \n",
    "                #tabuleiro_base[i].append('0')\n",
    "                tabuleiro_base[i].append('1')\n",
    "    return tabuleiro_base\n",
    "\n",
    "def imprimir_tabuleiro(tabuleiro):\n",
    "    for linha in tabuleiro:\n",
    "        print(' '.join(str(celula) for celula in linha))\n",
    "\n",
    "# Criar o tabuleiro 11x11 com '1' representando as comidas\n",
    "tabuleiro_pacman = criar_tabuleiro()\n",
    "\n",
    "# Exibir o tabuleiro\n",
    "#imprimir_tabuleiro(tabuleiro_pacman)\n"
   ]
  },
  {
   "cell_type": "code",
   "execution_count": 2,
   "metadata": {},
   "outputs": [],
   "source": [
    "def andar1():\n",
    "    tabuleiro1 = criar_tabuleiro()\n",
    "    paredes = [[2,1],[2,3],[2,5],[2,6],[2,7],[2,9],\n",
    "               [3,3],\n",
    "               [4,2], [4,3], [4,5],[4,7],[4,8],\n",
    "               [5,5], [5,7],\n",
    "               [6,4],[6,5], [6,7], [6,9],\n",
    "               [7,7],\n",
    "               [8,2], [8,3], [8,5],[8,6],[8,7], [8,9]]\n",
    "    for parede in paredes:\n",
    "        i, j = parede\n",
    "        #tabuleiro1[i][j] = \"0\"\n",
    "        tabuleiro1[i][j] = \"■\"\n",
    "    #imprimir_tabuleiro(tabuleiro1)\n",
    "    tabuleiro1[1][1] = \"P\"\n",
    "    tabuleiro1[9][9] = \"F\"\n",
    "    return tabuleiro1\n"
   ]
  },
  {
   "cell_type": "code",
   "execution_count": 3,
   "metadata": {},
   "outputs": [],
   "source": [
    "def andar2():\n",
    "    tabuleiro2 = criar_tabuleiro()\n",
    "    paredes = [[1,6],\n",
    "    [2, 2], [2, 4], [2, 6], [2, 8],  # Terceira linha\n",
    "    [3, 2], [3, 4], [3, 8], # Quarta linha\n",
    "    [4,4], [4,5], [4,7],[4,8], # Quinta linha\n",
    "    [5,2], [5,8], # Sexta linha\n",
    "    [6, 2], [6,6],[6, 8],   # Sétima linha\n",
    "    [7, 4], [7,6],  # Oitava linha\n",
    "    [8,1],[8,2],[8,4],[8,6], [8,9],# Laterais da nona linha\n",
    "    [9, 4]]  # Décima linha\n",
    "    for parede in paredes:\n",
    "        i, j = parede\n",
    "        #tabuleiro2[i][j] = \"0\"\n",
    "        tabuleiro2[i][j] = \"■\"\n",
    "    #imprimir_tabuleiro(tabuleiro2)\n",
    "    return tabuleiro2\n"
   ]
  },
  {
   "cell_type": "code",
   "execution_count": 4,
   "metadata": {},
   "outputs": [],
   "source": [
    "def andar3():\n",
    "    tabuleiro3 = criar_tabuleiro()\n",
    "    paredes = [[1,6],\n",
    "    [2, 2], [2, 5], [2, 6],[2, 7], [2, 8],  # Terceira linha\n",
    "    [3, 2], # Quarta linha\n",
    "    [4,2], [4,4], [4,5],[4,6],[4,8], # Quinta linha\n",
    "    [5,6], [5,8], # Sexta linha\n",
    "    [6, 2], [6,4], [6,5], [6,6],   # Sétima linha\n",
    "    [7, 2],  # Oitava linha\n",
    "    [8,2],[8,3],[8,6],[8,7],[8,8],# Laterais da nona linha\n",
    "    [9, 3]]  # Décima linha\n",
    "    for parede in paredes:\n",
    "        i, j = parede\n",
    "        #tabuleiro3[i][j] = \"0\"\n",
    "        tabuleiro3[i][j] = \"■\"\n",
    "    #imprimir_tabuleiro(tabuleiro3)\n",
    "    return tabuleiro3\n",
    "    \n"
   ]
  },
  {
   "cell_type": "markdown",
   "metadata": {},
   "source": [
    "# Gerando agentes\n"
   ]
  },
  {
   "cell_type": "code",
   "execution_count": 5,
   "metadata": {},
   "outputs": [],
   "source": [
    "from GameState import GameState\n",
    "import numpy as np\n",
    "from numpy import Infinity\n",
    "from IPython.display import clear_output\n",
    "import time as time\n"
   ]
  },
  {
   "cell_type": "code",
   "execution_count": 6,
   "metadata": {},
   "outputs": [],
   "source": [
    "def MinMax(state:list, depth:int, turn:bool, moves:list):\n",
    "    best = []\n",
    "    if turn:\n",
    "        best = [-1,-1,-1, Infinity]\n",
    "    else:\n",
    "        best = [-1, -1, -1, -Infinity]\n",
    "    \n",
    "    if depth == 0 or gamestate.is_terminal():\n",
    "         score = gamestate.score(gamestate.pos_max if gamestate.turn_Max else gamestate.pos_min, best)\n",
    "         return [-1, -1, -1, score]\n",
    "\n",
    "    \n",
    "    for i in moves:\n",
    "        if turn:\n",
    "            state = gamestate.get_new_state(gamestate.pos_max,i)\n",
    "            #print(state.get_possible_moves())\n",
    "            score = MinMax(state, depth-1, not turn, i)\n",
    "            if score[3] < best[3]:\n",
    "                best = score\n",
    "            print(best)\n",
    "        else:\n",
    "            state = gamestate.get_new_state(gamestate.pos_min,i)\n",
    "            #print(state.get_possible_moves())\n",
    "            score = MinMax(state, depth-1, not turn, i)\n",
    "            if score[3] > best[3]:\n",
    "                best = score\n",
    "            print(best)\n",
    "    return best\n",
    "            "
   ]
  },
  {
   "cell_type": "code",
   "execution_count": 21,
   "metadata": {},
   "outputs": [],
   "source": [
    "def movimento_jogador(gamestate):\n",
    "    while True:\n",
    "        escolha = input(\"Digite o movimento desejado (cima, baixo, esquerda, direita, subir ou descer)\")\n",
    "        escolha = escolha.lower()\n",
    "        pos = gamestate.pos_max\n",
    "        if escolha == \"cima\" and gamestate.board_state[pos[2]][pos[0]-1][pos[1]] != \"■\":\n",
    "                pos = [pos[0]-1,pos[1], pos[2]]\n",
    "                return pos\n",
    "        elif escolha == \"baixo\" and gamestate.board_state[pos[2]][pos[0]+1][pos[1]] != \"■\":\n",
    "                pos = [pos[0]+1,pos[1], pos[2]]\n",
    "                return pos\n",
    "        elif escolha == \"esquerda\" and gamestate.board_state[pos[2]][pos[0]][pos[1]-1] != \"■\":\n",
    "                pos = [pos[0], pos[1]-1, pos[2]]\n",
    "                return pos\n",
    "        elif escolha == \"direita\" and gamestate.board_state[pos[2]][pos[0]][pos[1]+1] != \"■\":\n",
    "                pos = [pos[0],pos[1]+1,pos[2]]\n",
    "                return pos\n",
    "        elif escolha == \"subir\" and gamestate.board_state[pos[2]+1][pos[0]][pos[1]] != \"■\":\n",
    "                pos = [pos[0],pos[1],pos[2]+1]\n",
    "                return pos\n",
    "        elif escolha == \"descer\" and gamestate.board_state[pos[2]-1][pos[0]-1][pos[1]] != \"■\":\n",
    "                pos = [pos[0],pos[1]-1,pos[2]-1]\n",
    "                return pos\n",
    "        else:\n",
    "                print(\"Movimento bloqueado, tente outra rota\")\n"
   ]
  },
  {
   "cell_type": "code",
   "execution_count": 17,
   "metadata": {},
   "outputs": [],
   "source": [
    "def iniciarJogo(jogador_inicial: bool):\n",
    "    gamestate = GameState([andar1(), andar2(), andar3()], jogador_inicial, [1,1,0], [9,9,0])\n",
    "    imprimir_tabuleiro(gamestate.board_state[0])\n",
    "    while not gamestate.is_terminal():\n",
    "        if gamestate.turn_Max:\n",
    "            jogador = movimento_jogador(gamestate)\n",
    "            gamestate.get_new_state(gamestate.pos_max, jogador)\n",
    "            #gamestate.turn_Max = False\n",
    "            gamestate.turn_Max = True\n",
    "            movimento_escolhido = jogador\n",
    "        #else:\n",
    "            #movimento_escolhido = MinMax(gamestate.board_state, gamestate.get_depth(), gamestate.turn_Max, gamestate.get_possible_moves())\n",
    "            #gamestate.get_new_state(gamestate.pos_min, movimento_escolhido)\n",
    "            \n",
    "            \n",
    "        \n",
    "        clear_output(True)\n",
    "        if movimento_escolhido[2] == 0:\n",
    "            imprimir_tabuleiro(gamestate.board_state[0])\n",
    "        elif movimento_escolhido[2] == 1:\n",
    "            imprimir_tabuleiro(gamestate.board_state[1])\n",
    "        else:\n",
    "            imprimir_tabuleiro(gamestate.board_state[2])\n",
    "        time.sleep(0.5)\n",
    "        \n",
    "    print(\"Jogo terminou\")\n",
    "    "
   ]
  },
  {
   "cell_type": "code",
   "execution_count": 22,
   "metadata": {},
   "outputs": [
    {
     "name": "stdout",
     "output_type": "stream",
     "text": [
      "■ ■ ■ ■ ■ ■ ■ ■ ■ ■ ■\n",
      "■ 0 0 0 0 1 1 1 1 1 ■\n",
      "■ ■ 1 ■ P ■ ■ ■ 1 ■ ■\n",
      "■ 1 1 ■ 1 1 1 1 1 1 ■\n",
      "■ 1 ■ ■ 1 ■ 1 ■ ■ 1 ■\n",
      "■ 1 1 1 1 ■ 1 ■ 1 1 ■\n",
      "■ 1 1 1 ■ ■ 1 ■ 1 ■ ■\n",
      "■ 1 1 1 1 1 1 ■ 1 1 ■\n",
      "■ 1 ■ ■ 1 ■ ■ ■ 1 ■ ■\n",
      "■ 1 1 1 1 1 1 1 1 F ■\n",
      "■ ■ ■ ■ ■ ■ ■ ■ ■ ■ ■\n",
      "Movimento bloqueado, tente outra rota\n"
     ]
    },
    {
     "ename": "KeyboardInterrupt",
     "evalue": "Interrupted by user",
     "output_type": "error",
     "traceback": [
      "\u001b[1;31m---------------------------------------------------------------------------\u001b[0m",
      "\u001b[1;31mKeyboardInterrupt\u001b[0m                         Traceback (most recent call last)",
      "Cell \u001b[1;32mIn[22], line 1\u001b[0m\n\u001b[1;32m----> 1\u001b[0m \u001b[43miniciarJogo\u001b[49m\u001b[43m(\u001b[49m\u001b[38;5;28;43;01mTrue\u001b[39;49;00m\u001b[43m)\u001b[49m\n",
      "Cell \u001b[1;32mIn[17], line 6\u001b[0m, in \u001b[0;36miniciarJogo\u001b[1;34m(jogador_inicial)\u001b[0m\n\u001b[0;32m      4\u001b[0m \u001b[38;5;28;01mwhile\u001b[39;00m \u001b[38;5;129;01mnot\u001b[39;00m gamestate\u001b[38;5;241m.\u001b[39mis_terminal():\n\u001b[0;32m      5\u001b[0m     \u001b[38;5;28;01mif\u001b[39;00m gamestate\u001b[38;5;241m.\u001b[39mturn_Max:\n\u001b[1;32m----> 6\u001b[0m         jogador \u001b[38;5;241m=\u001b[39m \u001b[43mmovimento_jogador\u001b[49m\u001b[43m(\u001b[49m\u001b[43mgamestate\u001b[49m\u001b[43m)\u001b[49m\n\u001b[0;32m      7\u001b[0m         gamestate\u001b[38;5;241m.\u001b[39mget_new_state(gamestate\u001b[38;5;241m.\u001b[39mpos_max, jogador)\n\u001b[0;32m      8\u001b[0m         \u001b[38;5;66;03m#gamestate.turn_Max = False\u001b[39;00m\n",
      "Cell \u001b[1;32mIn[21], line 3\u001b[0m, in \u001b[0;36mmovimento_jogador\u001b[1;34m(gamestate)\u001b[0m\n\u001b[0;32m      1\u001b[0m \u001b[38;5;28;01mdef\u001b[39;00m \u001b[38;5;21mmovimento_jogador\u001b[39m(gamestate):\n\u001b[0;32m      2\u001b[0m     \u001b[38;5;28;01mwhile\u001b[39;00m \u001b[38;5;28;01mTrue\u001b[39;00m:\n\u001b[1;32m----> 3\u001b[0m         escolha \u001b[38;5;241m=\u001b[39m \u001b[38;5;28;43minput\u001b[39;49m\u001b[43m(\u001b[49m\u001b[38;5;124;43m\"\u001b[39;49m\u001b[38;5;124;43mDigite o movimento desejado (cima, baixo, esquerda, direita, subir ou descer)\u001b[39;49m\u001b[38;5;124;43m\"\u001b[39;49m\u001b[43m)\u001b[49m\n\u001b[0;32m      4\u001b[0m         escolha \u001b[38;5;241m=\u001b[39m escolha\u001b[38;5;241m.\u001b[39mlower()\n\u001b[0;32m      5\u001b[0m         pos \u001b[38;5;241m=\u001b[39m gamestate\u001b[38;5;241m.\u001b[39mpos_max\n",
      "File \u001b[1;32m~\\AppData\\Local\\Packages\\PythonSoftwareFoundation.Python.3.10_qbz5n2kfra8p0\\LocalCache\\local-packages\\Python310\\site-packages\\ipykernel\\kernelbase.py:1282\u001b[0m, in \u001b[0;36mKernel.raw_input\u001b[1;34m(self, prompt)\u001b[0m\n\u001b[0;32m   1280\u001b[0m     msg \u001b[38;5;241m=\u001b[39m \u001b[38;5;124m\"\u001b[39m\u001b[38;5;124mraw_input was called, but this frontend does not support input requests.\u001b[39m\u001b[38;5;124m\"\u001b[39m\n\u001b[0;32m   1281\u001b[0m     \u001b[38;5;28;01mraise\u001b[39;00m StdinNotImplementedError(msg)\n\u001b[1;32m-> 1282\u001b[0m \u001b[38;5;28;01mreturn\u001b[39;00m \u001b[38;5;28;43mself\u001b[39;49m\u001b[38;5;241;43m.\u001b[39;49m\u001b[43m_input_request\u001b[49m\u001b[43m(\u001b[49m\n\u001b[0;32m   1283\u001b[0m \u001b[43m    \u001b[49m\u001b[38;5;28;43mstr\u001b[39;49m\u001b[43m(\u001b[49m\u001b[43mprompt\u001b[49m\u001b[43m)\u001b[49m\u001b[43m,\u001b[49m\n\u001b[0;32m   1284\u001b[0m \u001b[43m    \u001b[49m\u001b[38;5;28;43mself\u001b[39;49m\u001b[38;5;241;43m.\u001b[39;49m\u001b[43m_parent_ident\u001b[49m\u001b[43m[\u001b[49m\u001b[38;5;124;43m\"\u001b[39;49m\u001b[38;5;124;43mshell\u001b[39;49m\u001b[38;5;124;43m\"\u001b[39;49m\u001b[43m]\u001b[49m\u001b[43m,\u001b[49m\n\u001b[0;32m   1285\u001b[0m \u001b[43m    \u001b[49m\u001b[38;5;28;43mself\u001b[39;49m\u001b[38;5;241;43m.\u001b[39;49m\u001b[43mget_parent\u001b[49m\u001b[43m(\u001b[49m\u001b[38;5;124;43m\"\u001b[39;49m\u001b[38;5;124;43mshell\u001b[39;49m\u001b[38;5;124;43m\"\u001b[39;49m\u001b[43m)\u001b[49m\u001b[43m,\u001b[49m\n\u001b[0;32m   1286\u001b[0m \u001b[43m    \u001b[49m\u001b[43mpassword\u001b[49m\u001b[38;5;241;43m=\u001b[39;49m\u001b[38;5;28;43;01mFalse\u001b[39;49;00m\u001b[43m,\u001b[49m\n\u001b[0;32m   1287\u001b[0m \u001b[43m\u001b[49m\u001b[43m)\u001b[49m\n",
      "File \u001b[1;32m~\\AppData\\Local\\Packages\\PythonSoftwareFoundation.Python.3.10_qbz5n2kfra8p0\\LocalCache\\local-packages\\Python310\\site-packages\\ipykernel\\kernelbase.py:1325\u001b[0m, in \u001b[0;36mKernel._input_request\u001b[1;34m(self, prompt, ident, parent, password)\u001b[0m\n\u001b[0;32m   1322\u001b[0m \u001b[38;5;28;01mexcept\u001b[39;00m \u001b[38;5;167;01mKeyboardInterrupt\u001b[39;00m:\n\u001b[0;32m   1323\u001b[0m     \u001b[38;5;66;03m# re-raise KeyboardInterrupt, to truncate traceback\u001b[39;00m\n\u001b[0;32m   1324\u001b[0m     msg \u001b[38;5;241m=\u001b[39m \u001b[38;5;124m\"\u001b[39m\u001b[38;5;124mInterrupted by user\u001b[39m\u001b[38;5;124m\"\u001b[39m\n\u001b[1;32m-> 1325\u001b[0m     \u001b[38;5;28;01mraise\u001b[39;00m \u001b[38;5;167;01mKeyboardInterrupt\u001b[39;00m(msg) \u001b[38;5;28;01mfrom\u001b[39;00m \u001b[38;5;28;01mNone\u001b[39;00m\n\u001b[0;32m   1326\u001b[0m \u001b[38;5;28;01mexcept\u001b[39;00m \u001b[38;5;167;01mException\u001b[39;00m:\n\u001b[0;32m   1327\u001b[0m     \u001b[38;5;28mself\u001b[39m\u001b[38;5;241m.\u001b[39mlog\u001b[38;5;241m.\u001b[39mwarning(\u001b[38;5;124m\"\u001b[39m\u001b[38;5;124mInvalid Message:\u001b[39m\u001b[38;5;124m\"\u001b[39m, exc_info\u001b[38;5;241m=\u001b[39m\u001b[38;5;28;01mTrue\u001b[39;00m)\n",
      "\u001b[1;31mKeyboardInterrupt\u001b[0m: Interrupted by user"
     ]
    }
   ],
   "source": [
    "iniciarJogo(True)"
   ]
  }
 ],
 "metadata": {
  "kernelspec": {
   "display_name": "Python 3",
   "language": "python",
   "name": "python3"
  },
  "language_info": {
   "codemirror_mode": {
    "name": "ipython",
    "version": 3
   },
   "file_extension": ".py",
   "mimetype": "text/x-python",
   "name": "python",
   "nbconvert_exporter": "python",
   "pygments_lexer": "ipython3",
   "version": "3.10.11"
  }
 },
 "nbformat": 4,
 "nbformat_minor": 2
}
