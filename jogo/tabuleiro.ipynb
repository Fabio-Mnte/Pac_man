{
 "cells": [
  {
   "cell_type": "markdown",
   "metadata": {},
   "source": [
    "# Definições base do tabuleiro\n",
    "-> tabuleiro deve seguir as imagens base\n",
    "\n",
    "-> tabuleiro deve possuir pontos de transição que permitam o agente ir de um andar ao outro\n",
    "\n",
    "-> tabuleiro precisa gerar as comidinhas"
   ]
  },
  {
   "cell_type": "code",
   "execution_count": 1,
   "metadata": {},
   "outputs": [],
   "source": [
    "def criar_tabuleiro():\n",
    "    tabuleiro_base = []\n",
    "    # Cria uma matriz (lista de listas) com o elemento especificado\n",
    "    for i in range(11):\n",
    "        tabuleiro_base.append([])\n",
    "        for j in range(11):\n",
    "            if i == 0 or j == 0 or i == 10 or j == 10:\n",
    "                #tabuleiro_base[i].append(\"0\")\n",
    "                tabuleiro_base[i].append(\"■\")\n",
    "            else:\n",
    "                \n",
    "                #tabuleiro_base[i].append('0')\n",
    "                tabuleiro_base[i].append('1')\n",
    "    return tabuleiro_base\n",
    "\n",
    "def imprimir_tabuleiro(tabuleiro):\n",
    "    for linha in tabuleiro:\n",
    "        print(' '.join(str(celula) for celula in linha))\n",
    "\n",
    "# Criar o tabuleiro 11x11 com '1' representando as comidas\n",
    "tabuleiro_pacman = criar_tabuleiro()\n",
    "\n",
    "# Exibir o tabuleiro\n",
    "#imprimir_tabuleiro(tabuleiro_pacman)\n"
   ]
  },
  {
   "cell_type": "code",
   "execution_count": 2,
   "metadata": {},
   "outputs": [],
   "source": [
    "def andar1():\n",
    "    tabuleiro1 = criar_tabuleiro()\n",
    "    paredes = [[2,1],[2,3],[2,5],[2,6],[2,7],[2,9],\n",
    "               [3,3],\n",
    "               [4,2], [4,3], [4,5],[4,7],[4,8],\n",
    "               [5,5], [5,7],\n",
    "               [6,4],[6,5], [6,7], [6,9],\n",
    "               [7,7],\n",
    "               [8,2], [8,3], [8,5],[8,6],[8,7], [8,9]]\n",
    "    for parede in paredes:\n",
    "        i, j = parede\n",
    "        #tabuleiro1[i][j] = \"0\"\n",
    "        tabuleiro1[i][j] = \"■\"\n",
    "    #imprimir_tabuleiro(tabuleiro1)\n",
    "    tabuleiro1[1][1] = \"P\"\n",
    "    tabuleiro1[9][9] = \"F\"\n",
    "    return tabuleiro1\n"
   ]
  },
  {
   "cell_type": "code",
   "execution_count": 3,
   "metadata": {},
   "outputs": [],
   "source": [
    "def andar2():\n",
    "    tabuleiro2 = criar_tabuleiro()\n",
    "    paredes = [[1,6],\n",
    "    [2, 2], [2, 4], [2, 6], [2, 8],  # Terceira linha\n",
    "    [3, 2], [3, 4], [3, 8], # Quarta linha\n",
    "    [4,4], [4,5], [4,7],[4,8], # Quinta linha\n",
    "    [5,2], [5,8], # Sexta linha\n",
    "    [6, 2], [6,6],[6, 8],   # Sétima linha\n",
    "    [7, 4], [7,6],  # Oitava linha\n",
    "    [8,1],[8,2],[8,4],[8,6], [8,9],# Laterais da nona linha\n",
    "    [9, 4]]  # Décima linha\n",
    "    for parede in paredes:\n",
    "        i, j = parede\n",
    "        #tabuleiro2[i][j] = \"0\"\n",
    "        tabuleiro2[i][j] = \"■\"\n",
    "    #imprimir_tabuleiro(tabuleiro2)\n",
    "    return tabuleiro2\n"
   ]
  },
  {
   "cell_type": "code",
   "execution_count": 4,
   "metadata": {},
   "outputs": [],
   "source": [
    "def andar3():\n",
    "    tabuleiro3 = criar_tabuleiro()\n",
    "    paredes = [[1,6],\n",
    "    [2, 2], [2, 5], [2, 6],[2, 7], [2, 8],  # Terceira linha\n",
    "    [3, 2], # Quarta linha\n",
    "    [4,2], [4,4], [4,5],[4,6],[4,8], # Quinta linha\n",
    "    [5,6], [5,8], # Sexta linha\n",
    "    [6, 2], [6,4], [6,5], [6,6],   # Sétima linha\n",
    "    [7, 2],  # Oitava linha\n",
    "    [8,2],[8,3],[8,6],[8,7],[8,8],# Laterais da nona linha\n",
    "    [9, 3]]  # Décima linha\n",
    "    for parede in paredes:\n",
    "        i, j = parede\n",
    "        #tabuleiro3[i][j] = \"0\"\n",
    "        tabuleiro3[i][j] = \"■\"\n",
    "    #imprimir_tabuleiro(tabuleiro3)\n",
    "    return tabuleiro3\n",
    "    \n"
   ]
  },
  {
   "cell_type": "markdown",
   "metadata": {},
   "source": [
    "# Gerando agentes\n"
   ]
  },
  {
   "cell_type": "code",
   "execution_count": 5,
   "metadata": {},
   "outputs": [],
   "source": [
    "from GameState import GameState\n",
    "import numpy as np\n",
    "from numpy import Infinity\n",
    "from IPython.display import clear_output\n",
    "import time as time"
   ]
  },
  {
   "cell_type": "code",
   "execution_count": 6,
   "metadata": {},
   "outputs": [],
   "source": [
    "gamestate = GameState([andar1(), andar2(), andar3()], True, [1,1,0], [9,9,0])"
   ]
  },
  {
   "cell_type": "code",
   "execution_count": 7,
   "metadata": {},
   "outputs": [],
   "source": [
    "def MinMax(state:list, depth:int, turn:bool, moves:list):\n",
    "    best = []\n",
    "    if turn:\n",
    "        best = [-1,-1,-1, Infinity]\n",
    "    else:\n",
    "        best = [-1, -1, -1, -Infinity]\n",
    "    \n",
    "    if depth == 0 or gamestate.is_terminal():\n",
    "         score = gamestate.score(gamestate.pos_max if gamestate.turn_Max else gamestate.pos_min, best)\n",
    "         return [-1, -1, -1, score]\n",
    "\n",
    "    \n",
    "    for i in moves:\n",
    "        if turn:\n",
    "            state = gamestate.get_new_state(gamestate.pos_max,i)\n",
    "            #print(state.get_possible_moves())\n",
    "            score = MinMax(state, depth-1, not turn, state.get_possible_moves())\n",
    "            score[0], score[1], score[2] = i[0], i[1], i[2]\n",
    "            if score[3] > best[3]:\n",
    "                best = score\n",
    "            print(best)\n",
    "        else:\n",
    "            state = gamestate.get_new_state(gamestate.pos_min,i)\n",
    "            #print(state.get_possible_moves())\n",
    "            score = MinMax(state, depth-1, not turn, state.get_possible_moves())\n",
    "            score[0], score[1], score[2] = i[0], i[1], i[2]\n",
    "            if score[3] > best[3]:\n",
    "                best = score\n",
    "            print(best)\n",
    "    return best"
   ]
  },
  {
   "cell_type": "code",
   "execution_count": 8,
   "metadata": {},
   "outputs": [],
   "source": [
    "def hill_climb(gamestate: GameState, pacman_pos, ghost_pos):\n",
    "\t\tghost_pos = gamestate.pos_min\n",
    "\t\tpacman_pos = gamestate.pos_max\n",
    "\t\tdistancia_original = gamestate.straight_distance()\n",
    "\t\tmoves = gamestate.get_possible_moves()\n",
    "\t\tlista_movimentos = []\n",
    "\n",
    "\t\tmelhorou = True\n",
    "\t\twhile melhorou:\n",
    "\t\t\tmelhorou = False\n",
    "\t\t\tmelhor_distancia = distancia_original\n",
    "\t\t\tmelhor_movimento = None \n",
    "\n",
    "\t\t\tfor move in moves:\n",
    "\t\t\t\tghost_new_pos = [ghost_pos[0] + move[0], ghost_pos[1] + move[1]]\n",
    "\t\t\t\tnova_distancia = gamestate.straight_distance()\n",
    "\n",
    "\t\t\t\tif (nova_distancia < melhor_distancia):\n",
    "\t\t\t\t\tmelhor_movimento = move\n",
    "\t\t\t\t\tmelhor_distancia = nova_distancia\n",
    "\t\t\t\t\tmelhorou = True\n",
    "\t\t\t\n",
    "\t\t\t\tif melhor_movimento:\n",
    "\t\t\t\t\tghost_pos[0] = ghost_pos[0] + melhor_movimento[0]\n",
    "\t\t\t\t\tghost_pos[1] = ghost_pos[1] + melhor_movimento[1]\n",
    "\t\t\t\t\tlista_movimentos.append(melhor_movimento)\n",
    "\t\t\t\t\tdistancia_original = melhor_distancia\n",
    "\t\t\n",
    "\t\treturn lista_movimentos\n"
   ]
  },
  {
   "cell_type": "code",
   "execution_count": 9,
   "metadata": {},
   "outputs": [],
   "source": [
    "def movimento_jogador(gamestate):\n",
    "    continuar = True\n",
    "    while continuar:\n",
    "        escolha = input(\"Digite o movimento desejado (cima, baixo, esquerda, direita, subir ou descer)\")\n",
    "        escolha = escolha.lower()\n",
    "        pos = gamestate.pos_max\n",
    "        if escolha == \"cima\" and gamestate.board_state[pos[2]][pos[0]-1][pos[1]] != \"■\":\n",
    "                pos = [pos[0]-1,pos[1], pos[2]]\n",
    "                continuar = False\n",
    "                return pos\n",
    "        elif escolha == \"baixo\" and gamestate.board_state[pos[2]][pos[0]+1][pos[1]] != \"■\":\n",
    "                pos = [pos[0]+1,pos[1], pos[2]]\n",
    "                continuar = False\n",
    "                return pos\n",
    "        elif escolha == \"esquerda\" and gamestate.board_state[pos[2]][pos[0]][pos[1]-1] != \"■\":\n",
    "                pos = [pos[0], pos[1]-1, pos[2]]\n",
    "                continuar = False\n",
    "                return pos\n",
    "        elif escolha == \"direita\" and gamestate.board_state[pos[2]][pos[0]][pos[1]+1] != \"■\":\n",
    "                pos = [pos[0],pos[1]+1,pos[2]]\n",
    "                continuar = False\n",
    "                return pos\n",
    "        elif escolha == \"subir\" and gamestate.board_state[pos[2]+1][pos[0]][pos[1]] != \"■\":\n",
    "                pos = [pos[0],pos[1],pos[2]+1]\n",
    "                continuar = False\n",
    "                return pos\n",
    "        elif escolha == \"descer\" and gamestate.board_state[pos[2]-1][pos[0]-1][pos[1]] != \"■\":\n",
    "                pos = [pos[0],pos[1]-1,pos[2]-1]\n",
    "                continuar = False\n",
    "                return pos\n",
    "        else:\n",
    "                print(\"Movimento bloqueado, tente outra rota\")"
   ]
  },
  {
   "cell_type": "code",
   "execution_count": 10,
   "metadata": {},
   "outputs": [],
   "source": [
    "def iniciarJogo(jogador_inicial: bool, ia_escolhida):\n",
    "    gamestate.turn_Max = jogador_inicial\n",
    "    while not gamestate.is_terminal():\n",
    "        if ia_escolhida == 'min-max':\n",
    "            if gamestate.turn_Max:\n",
    "                gamestate.get_new_state(gamestate.pos_max, movimento_jogador(gamestate))\n",
    "                gamestate.turn_Max = False\n",
    "            else:\n",
    "                movimento_escolhido = MinMax(gamestate.board_state, gamestate.get_depth(), gamestate.turn_Max, gamestate.get_possible_moves())\n",
    "                gamestate.get_new_state(gamestate.pos_min, movimento_escolhido)\n",
    "                gamestate.turn_Max = True\n",
    "            if movimento_escolhido[3] == 0:\n",
    "                print(gamestate.board_state[0])\n",
    "            elif movimento_escolhido[3] == 1:\n",
    "                print(gamestate.board_state[1])\n",
    "            else:\n",
    "                print(gamestate.board_state[2])\n",
    "        elif ia_escolhida == 'hill_climb':\n",
    "            if gamestate.turn_Max:\n",
    "                gamestate.get_new_state(gamestate.pos_max, movimento_jogador(gamestate))\n",
    "                gamestate.turn_Max = False\n",
    "            else: movimento_escolhido = hill_climb(gamestate, gamestate.pos_max, gamestate.pos_min)"
   ]
  },
  {
   "cell_type": "code",
   "execution_count": 11,
   "metadata": {},
   "outputs": [
    {
     "ename": "KeyboardInterrupt",
     "evalue": "",
     "output_type": "error",
     "traceback": [
      "\u001b[1;31m---------------------------------------------------------------------------\u001b[0m",
      "\u001b[1;31mKeyboardInterrupt\u001b[0m                         Traceback (most recent call last)",
      "Cell \u001b[1;32mIn[11], line 1\u001b[0m\n\u001b[1;32m----> 1\u001b[0m \u001b[43miniciarJogo\u001b[49m\u001b[43m(\u001b[49m\u001b[38;5;28;43;01mTrue\u001b[39;49;00m\u001b[43m,\u001b[49m\u001b[43m \u001b[49m\u001b[38;5;124;43m'\u001b[39;49m\u001b[38;5;124;43mhill_climb\u001b[39;49m\u001b[38;5;124;43m'\u001b[39;49m\u001b[43m)\u001b[49m\n",
      "Cell \u001b[1;32mIn[10], line 22\u001b[0m, in \u001b[0;36miniciarJogo\u001b[1;34m(jogador_inicial, ia_escolhida)\u001b[0m\n\u001b[0;32m     20\u001b[0m     gamestate\u001b[38;5;241m.\u001b[39mget_new_state(gamestate\u001b[38;5;241m.\u001b[39mpos_max, movimento_jogador(gamestate))\n\u001b[0;32m     21\u001b[0m     gamestate\u001b[38;5;241m.\u001b[39mturn_Max \u001b[38;5;241m=\u001b[39m \u001b[38;5;28;01mFalse\u001b[39;00m\n\u001b[1;32m---> 22\u001b[0m \u001b[38;5;28;01melse\u001b[39;00m: movimento_escolhido \u001b[38;5;241m=\u001b[39m \u001b[43mhill_climb\u001b[49m\u001b[43m(\u001b[49m\u001b[43mgamestate\u001b[49m\u001b[43m,\u001b[49m\u001b[43m \u001b[49m\u001b[43mgamestate\u001b[49m\u001b[38;5;241;43m.\u001b[39;49m\u001b[43mpos_max\u001b[49m\u001b[43m,\u001b[49m\u001b[43m \u001b[49m\u001b[43mgamestate\u001b[49m\u001b[38;5;241;43m.\u001b[39;49m\u001b[43mpos_min\u001b[49m\u001b[43m)\u001b[49m\n",
      "Cell \u001b[1;32mIn[8], line 5\u001b[0m, in \u001b[0;36mhill_climb\u001b[1;34m(gamestate, pacman_pos, ghost_pos)\u001b[0m\n\u001b[0;32m      3\u001b[0m pacman_pos \u001b[38;5;241m=\u001b[39m gamestate\u001b[38;5;241m.\u001b[39mpos_max\n\u001b[0;32m      4\u001b[0m distancia_original \u001b[38;5;241m=\u001b[39m gamestate\u001b[38;5;241m.\u001b[39mstraight_distance()\n\u001b[1;32m----> 5\u001b[0m moves \u001b[38;5;241m=\u001b[39m \u001b[43mgamestate\u001b[49m\u001b[38;5;241;43m.\u001b[39;49m\u001b[43mget_possible_moves\u001b[49m\u001b[43m(\u001b[49m\u001b[43m)\u001b[49m\n\u001b[0;32m      6\u001b[0m lista_movimentos \u001b[38;5;241m=\u001b[39m []\n\u001b[0;32m      8\u001b[0m melhorou \u001b[38;5;241m=\u001b[39m \u001b[38;5;28;01mTrue\u001b[39;00m\n",
      "File \u001b[1;32mc:\\Users\\Enzo\\Desktop\\trabalho_ia\\Pac_man\\jogo\\GameState.py:71\u001b[0m, in \u001b[0;36mGameState.get_possible_moves\u001b[1;34m(self)\u001b[0m\n\u001b[0;32m     68\u001b[0m \t\t\u001b[38;5;28;01melse\u001b[39;00m:\n\u001b[0;32m     69\u001b[0m \t\t\t\u001b[38;5;28;01mreturn\u001b[39;00m \u001b[38;5;241m0\u001b[39m\n\u001b[1;32m---> 71\u001b[0m \u001b[38;5;28;01mdef\u001b[39;00m \u001b[38;5;21mget_possible_moves\u001b[39m(\u001b[38;5;28mself\u001b[39m):\n\u001b[0;32m     72\u001b[0m \t\u001b[38;5;28;01mif\u001b[39;00m \u001b[38;5;28mself\u001b[39m\u001b[38;5;241m.\u001b[39mturn_Max:\n\u001b[0;32m     73\u001b[0m \t\tmoves_max \u001b[38;5;241m=\u001b[39m []\n",
      "\u001b[1;31mKeyboardInterrupt\u001b[0m: "
     ]
    }
   ],
   "source": [
    "iniciarJogo(True, 'min-max')"
   ]
  }
 ],
 "metadata": {
  "kernelspec": {
   "display_name": "Python 3",
   "language": "python",
   "name": "python3"
  },
  "language_info": {
   "codemirror_mode": {
    "name": "ipython",
    "version": 3
   },
   "file_extension": ".py",
   "mimetype": "text/x-python",
   "name": "python",
   "nbconvert_exporter": "python",
   "pygments_lexer": "ipython3",
   "version": "3.12.3"
  }
 },
 "nbformat": 4,
 "nbformat_minor": 2
}
